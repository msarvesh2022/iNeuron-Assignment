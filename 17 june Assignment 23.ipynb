{
 "cells": [
  {
   "cell_type": "markdown",
   "id": "5ec6db81",
   "metadata": {},
   "source": [
    "### 1. What is the role of try and exception block?"
   ]
  },
  {
   "cell_type": "markdown",
   "id": "5a16bc80",
   "metadata": {},
   "source": [
    "using the try and exception block we save our code to crash and also find out the reason of error in code block.\n",
    "\n",
    "when an error or exception occurs during the execution of code, it raises an exception. If the exception is not handled, it can lead to program termination. The try-except construct provides a way to catch and handle these exceptions gracefully.\n"
   ]
  },
  {
   "cell_type": "markdown",
   "id": "3ac21433",
   "metadata": {},
   "source": [
    "### 2. What is the syntax for a basic try-except block?"
   ]
  },
  {
   "cell_type": "code",
   "execution_count": 14,
   "id": "95d8572b",
   "metadata": {},
   "outputs": [],
   "source": [
    "try :\n",
    "    \n",
    "    pass\n",
    "    \n",
    "    #code block\n",
    "\n",
    "\n",
    "\n",
    "\n",
    "except Exception as e:\n",
    "        print(e)"
   ]
  },
  {
   "cell_type": "markdown",
   "id": "8d533fc8",
   "metadata": {},
   "source": [
    "### 3. What happens if an exception occurs inside a try block and there is no matching except block?"
   ]
  },
  {
   "cell_type": "markdown",
   "id": "0c83ff53",
   "metadata": {},
   "source": [
    "If an exception occurs inside a try block and there is no matching except block to handle that specific exception, the exception is left unhandled, and the program terminates with an error message. This error message includes the exception type, a traceback, and any associated error information."
   ]
  },
  {
   "cell_type": "code",
   "execution_count": 16,
   "id": "d6c1887c",
   "metadata": {},
   "outputs": [
    {
     "name": "stdout",
     "output_type": "stream",
     "text": [
      "what is the first number \n",
      "wd\n"
     ]
    },
    {
     "ename": "ValueError",
     "evalue": "invalid literal for int() with base 10: 'wd'",
     "output_type": "error",
     "traceback": [
      "\u001b[1;31m---------------------------------------------------------------------------\u001b[0m",
      "\u001b[1;31mValueError\u001b[0m                                Traceback (most recent call last)",
      "Cell \u001b[1;32mIn[16], line 2\u001b[0m\n\u001b[0;32m      1\u001b[0m \u001b[38;5;28;01mtry\u001b[39;00m :\n\u001b[1;32m----> 2\u001b[0m     a\u001b[38;5;241m=\u001b[39m \u001b[38;5;28;43mint\u001b[39;49m\u001b[43m(\u001b[49m\u001b[38;5;28;43minput\u001b[39;49m\u001b[43m(\u001b[49m\u001b[38;5;124;43m\"\u001b[39;49m\u001b[38;5;124;43mwhat is the first number \u001b[39;49m\u001b[38;5;130;43;01m\\n\u001b[39;49;00m\u001b[38;5;124;43m\"\u001b[39;49m\u001b[43m)\u001b[49m\u001b[43m)\u001b[49m\n\u001b[0;32m      3\u001b[0m     b \u001b[38;5;241m=\u001b[39m \u001b[38;5;28mint\u001b[39m(\u001b[38;5;28minput\u001b[39m(\u001b[38;5;124m\"\u001b[39m\u001b[38;5;124mwhat is the second number\u001b[39m\u001b[38;5;130;01m\\n\u001b[39;00m\u001b[38;5;124m\"\u001b[39m))\n\u001b[0;32m      4\u001b[0m     c\u001b[38;5;241m=\u001b[39m a\u001b[38;5;241m/\u001b[39mb\n",
      "\u001b[1;31mValueError\u001b[0m: invalid literal for int() with base 10: 'wd'"
     ]
    }
   ],
   "source": [
    "try :\n",
    "    a= int(input(\"what is the first number \\n\"))\n",
    "    b = int(input(\"what is the second number\\n\"))\n",
    "    c= a/b\n",
    "    print(c)\n",
    "    \n",
    "except ZeroDivisionError:\n",
    "    print('division with zero is not possible')\n",
    "    \n",
    "\n",
    "    "
   ]
  },
  {
   "cell_type": "markdown",
   "id": "bd65b29c",
   "metadata": {},
   "source": [
    "### 4. What is the difference between using a bare except block and specifying a specific exception type?"
   ]
  },
  {
   "cell_type": "markdown",
   "id": "8a9fda3f",
   "metadata": {},
   "source": [
    "When we use a bare except block, without specifying any exception type, it acts as a catch-all for any exception that occurs within the try block. It will catch and handle all exceptions, regardless of their type.\n",
    "\n",
    "\n",
    "When we specify a specific exception type in the except block, such as ValueError, TypeError, or any other specific exception, it will only catch and handle exceptions of that particular type. This approach allows for more precise and targeted exception handling"
   ]
  },
  {
   "cell_type": "markdown",
   "id": "243d9f0d",
   "metadata": {},
   "source": [
    "### 5. Can you have nested try-except blocks in Python? If yes, then give an example."
   ]
  },
  {
   "cell_type": "markdown",
   "id": "41f66cab",
   "metadata": {},
   "source": [
    "Yes, we can have nested try-except blocks in Python. This means that you can have a try block within another try block, and each try block can have its own corresponding except blocks to handle exceptions at different levels of nesting.\n",
    "\n",
    "Here's an example to illustrate nested try-except blocks:"
   ]
  },
  {
   "cell_type": "code",
   "execution_count": 17,
   "id": "f1bf4642",
   "metadata": {},
   "outputs": [
    {
     "name": "stdout",
     "output_type": "stream",
     "text": [
      "Outer try block\n",
      "Inner try block\n",
      "Inner except block: Cannot divide by zero.\n",
      "Inner finally block\n",
      "Outer finally block\n"
     ]
    }
   ],
   "source": [
    "try:\n",
    "    # Outer try block\n",
    "    print(\"Outer try block\")\n",
    "    try:\n",
    "        # Inner try block\n",
    "        print(\"Inner try block\")\n",
    "        x = 10 / 0  # Raises ZeroDivisionError\n",
    "    except ZeroDivisionError:\n",
    "        # Inner except block\n",
    "        print(\"Inner except block: Cannot divide by zero.\")\n",
    "    finally:\n",
    "        # Inner finally block\n",
    "        print(\"Inner finally block\")\n",
    "except:\n",
    "    # Outer except block\n",
    "    print(\"Outer except block: An error occurred.\")\n",
    "finally:\n",
    "    # Outer finally block\n",
    "    print(\"Outer finally block\")\n"
   ]
  },
  {
   "cell_type": "markdown",
   "id": "f05dd4ff",
   "metadata": {},
   "source": [
    "### 6. Can we use multiple exception blocks, if yes then give an example."
   ]
  },
  {
   "cell_type": "markdown",
   "id": "eae6c1fc",
   "metadata": {},
   "source": [
    "Yes, you can use multiple except blocks in Python to handle different types of exceptions within the same try block. This allows you to provide specific exception handling for each exception type."
   ]
  },
  {
   "cell_type": "code",
   "execution_count": 20,
   "id": "14c5c958",
   "metadata": {},
   "outputs": [],
   "source": [
    "try:\n",
    "    pass\n",
    "    # Code that might raise an exception\n",
    "    # ...\n",
    "except ValueError:\n",
    "    pass\n",
    "    # Code to handle ValueError\n",
    "    # ...\n",
    "except TypeError:\n",
    "    pass\n",
    "    # Code to handle TypeError\n",
    "    # ...\n",
    "except ZeroDivisionError:\n",
    "    pass\n",
    "    # Code to handle ZeroDivisionError\n",
    "    # ...\n"
   ]
  },
  {
   "cell_type": "markdown",
   "id": "7a693909",
   "metadata": {},
   "source": [
    "### 7. Write the reason due to which following errors are raised:\n",
    "- a. EOFError\n",
    "- b. FloatingPointError\n",
    "- c. IndexError\n",
    "- d. MemoryError\n",
    "- e. OverflowError\n",
    "- f. TabError\n",
    "- g. ValueError"
   ]
  },
  {
   "cell_type": "markdown",
   "id": "b0bd1f4e",
   "metadata": {},
   "source": [
    "a. `EOFError`: This error is raised when the `input()` function or a similar input operation reaches the end-of-file (EOF) condition. It typically occurs when trying to read input from a file or standard input (stdin) and no more input is available.\n",
    "\n",
    "b. `FloatingPointError`: This error is raised when a floating-point arithmetic operation fails to produce a valid result. It can occur due to various reasons, such as division by zero or mathematical operations resulting in an overflow or underflow of the floating-point representation.\n",
    "\n",
    "c. `IndexError`: This error is raised when attempting to access a list, tuple, string, or other sequence with an invalid index or when the index is out of range. It occurs when trying to access an element at an index that does not exist in the sequence.\n",
    "\n",
    "d. `MemoryError`: This error is raised when the program runs out of available memory to allocate for new objects or data structures. It indicates that the system does not have enough memory to fulfill the memory allocation request.\n",
    "\n",
    "e. `OverflowError`: This error is raised when a mathematical operation exceeds the maximum representable value for a numeric type. It occurs when the result of an arithmetic operation is too large to be stored within the available numeric range.\n",
    "\n",
    "f. `TabError`: This error is raised when there is an issue with the indentation of code using tabs and spaces inconsistently. It typically occurs when mixing tabs and spaces for indentation in Python code, violating the indentation rules defined by the Python language.\n",
    "\n",
    "g. `ValueError`: This error is raised when an operation or function receives an argument of the correct type but an inappropriate value. It occurs when a function is called with an argument that is not suitable or when attempting to convert a value to a different type that is not valid for the given value.\n",
    "\n",
    "These error types help identify specific issues and aid in debugging and error handling by providing information about the nature of the error encountered during program execution."
   ]
  },
  {
   "cell_type": "markdown",
   "id": "084c9e7e",
   "metadata": {},
   "source": [
    "### 8. Write code for the following given scenario and add try-exception block to it.\n",
    "\n",
    "Solution = \n",
    "\n",
    "- a. Program to divide two numbers     \n",
    "- b. Program to convert a string to an integer \n",
    "- c. Program to access an element in a list   \n",
    "- d. Program to handle a specific exception\n",
    "- e. Program to handle any exception"
   ]
  },
  {
   "cell_type": "code",
   "execution_count": 22,
   "id": "e248bc0b",
   "metadata": {},
   "outputs": [
    {
     "name": "stdout",
     "output_type": "stream",
     "text": [
      "Enter the dividend: 3\n",
      "Enter the divisor: 0\n",
      "Error: Cannot divide by zero.\n"
     ]
    }
   ],
   "source": [
    "# a. Program to divide two numbers\n",
    "\n",
    "try:\n",
    "    dividend = int(input(\"Enter the dividend: \"))\n",
    "    divisor = int(input(\"Enter the divisor: \"))\n",
    "    result = dividend / divisor\n",
    "    print(\"Result:\", result)\n",
    "except ZeroDivisionError:\n",
    "    print(\"Error: Cannot divide by zero.\")\n",
    "except ValueError:\n",
    "    print(\"Error: Invalid input. Please enter numeric values.\")\n"
   ]
  },
  {
   "cell_type": "code",
   "execution_count": 29,
   "id": "0607f780",
   "metadata": {},
   "outputs": [
    {
     "name": "stdout",
     "output_type": "stream",
     "text": [
      "Enter a number: efew\n",
      "Error: Invalid input. Please enter a valid integer.\n"
     ]
    }
   ],
   "source": [
    "#  b. Program to convert a string to an integer\n",
    "\n",
    "\n",
    "try:\n",
    "    string_num = input(\"Enter a number: \")\n",
    "    number = int(string_num)\n",
    "    print(\"Number:\", number)\n",
    "except ValueError:\n",
    "    print(\"Error: Invalid input. Please enter a valid integer.\")\n"
   ]
  },
  {
   "cell_type": "code",
   "execution_count": 27,
   "id": "86ef074b",
   "metadata": {},
   "outputs": [
    {
     "name": "stdout",
     "output_type": "stream",
     "text": [
      "Enter an index: 5\n",
      "Error: Index out of range.\n"
     ]
    }
   ],
   "source": [
    "#  c. Program to access an element in a list\n",
    "\n",
    "try:\n",
    "    my_list = [1, 2, 3, 4, 5]\n",
    "    index = int(input(\"Enter an index: \"))\n",
    "    value = my_list[index]\n",
    "    print(\"Value:\", value)\n",
    "except IndexError:\n",
    "    print(\"Error: Index out of range.\")\n",
    "except ValueError:\n",
    "    print(\"Error: Invalid input. Please enter a valid integer.\")\n"
   ]
  },
  {
   "cell_type": "code",
   "execution_count": 31,
   "id": "11d9d131",
   "metadata": {},
   "outputs": [
    {
     "name": "stdout",
     "output_type": "stream",
     "text": [
      "Enter the numerator: 2\n",
      "Enter the denominator: 0\n",
      "Error: Cannot divide by zero.\n"
     ]
    }
   ],
   "source": [
    "# d Program to handle a specific try:\n",
    "try:\n",
    "\n",
    "    numerator = int(input(\"Enter the numerator: \"))\n",
    "    denominator = int(input(\"Enter the denominator: \"))\n",
    "    result = numerator / denominator\n",
    "    print(\"Result:\", result)\n",
    "except ZeroDivisionError:\n",
    "    print(\"Error: Cannot divide by zero.\")\n",
    "\n",
    "\n"
   ]
  },
  {
   "cell_type": "code",
   "execution_count": 32,
   "id": "da171932",
   "metadata": {},
   "outputs": [
    {
     "name": "stdout",
     "output_type": "stream",
     "text": [
      "Enter a number: sa\n",
      "An error occurred: invalid literal for int() with base 10: 'sa'\n"
     ]
    }
   ],
   "source": [
    "# e. Program to handle any exception\n",
    "\n",
    "\n",
    "try:\n",
    "    x = int(input(\"Enter a number: \"))\n",
    "    result = 10 / x\n",
    "    print(\"Result:\", result)\n",
    "except Exception as e:\n",
    "    print(\"An error occurred:\", str(e))\n"
   ]
  },
  {
   "cell_type": "code",
   "execution_count": null,
   "id": "7d3b1071",
   "metadata": {},
   "outputs": [],
   "source": []
  },
  {
   "cell_type": "code",
   "execution_count": null,
   "id": "4d61deed",
   "metadata": {},
   "outputs": [],
   "source": []
  },
  {
   "cell_type": "markdown",
   "id": "efe1ab53",
   "metadata": {},
   "source": [
    "## Done !!"
   ]
  },
  {
   "cell_type": "code",
   "execution_count": null,
   "id": "7b9e8b5d",
   "metadata": {},
   "outputs": [],
   "source": []
  }
 ],
 "metadata": {
  "kernelspec": {
   "display_name": "Python 3 (ipykernel)",
   "language": "python",
   "name": "python3"
  },
  "language_info": {
   "codemirror_mode": {
    "name": "ipython",
    "version": 3
   },
   "file_extension": ".py",
   "mimetype": "text/x-python",
   "name": "python",
   "nbconvert_exporter": "python",
   "pygments_lexer": "ipython3",
   "version": "3.10.9"
  }
 },
 "nbformat": 4,
 "nbformat_minor": 5
}
