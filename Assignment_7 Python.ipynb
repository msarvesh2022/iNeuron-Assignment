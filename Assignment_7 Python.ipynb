{
 "cells": [
  {
   "cell_type": "markdown",
   "id": "eacacaca",
   "metadata": {},
   "source": [
    "### Q.1. Create two int type variables, apply addition, subtraction, division and multiplication and store the results in variables. Then print the data in the following format by calling the variables:"
   ]
  },
  {
   "cell_type": "markdown",
   "id": "9403d2fb",
   "metadata": {},
   "source": [
    "### First variable is __ & second variable is __.\n",
    "Addition: __ + __ = __\n",
    "\n",
    "Subtraction: __ - __ = __\n",
    "\n",
    "Multiplication: __ * __ = __\n",
    "\n",
    "Division: __ / __ = __\n"
   ]
  },
  {
   "cell_type": "code",
   "execution_count": 1,
   "id": "1589fbe2",
   "metadata": {},
   "outputs": [],
   "source": [
    "num1=10\n",
    "num2= 15"
   ]
  },
  {
   "cell_type": "code",
   "execution_count": 2,
   "id": "b3f5c773",
   "metadata": {},
   "outputs": [
    {
     "data": {
      "text/plain": [
       "25"
      ]
     },
     "execution_count": 2,
     "metadata": {},
     "output_type": "execute_result"
    }
   ],
   "source": [
    "#Addition \n",
    "num1+num2"
   ]
  },
  {
   "cell_type": "code",
   "execution_count": 3,
   "id": "d45f74c0",
   "metadata": {},
   "outputs": [
    {
     "data": {
      "text/plain": [
       "-5"
      ]
     },
     "execution_count": 3,
     "metadata": {},
     "output_type": "execute_result"
    }
   ],
   "source": [
    "# substraction\n",
    "num1-num2"
   ]
  },
  {
   "cell_type": "code",
   "execution_count": 4,
   "id": "da44fe60",
   "metadata": {},
   "outputs": [
    {
     "data": {
      "text/plain": [
       "150"
      ]
     },
     "execution_count": 4,
     "metadata": {},
     "output_type": "execute_result"
    }
   ],
   "source": [
    "# Multiplication \n",
    "num1*num2"
   ]
  },
  {
   "cell_type": "code",
   "execution_count": 5,
   "id": "32c55f36",
   "metadata": {},
   "outputs": [
    {
     "data": {
      "text/plain": [
       "0.6666666666666666"
      ]
     },
     "execution_count": 5,
     "metadata": {},
     "output_type": "execute_result"
    }
   ],
   "source": [
    "# Division \n",
    "num1/num2"
   ]
  },
  {
   "cell_type": "markdown",
   "id": "611a1a1c",
   "metadata": {},
   "source": [
    "### Q.2. What is the difference between the following operators:\n",
    "- (i) ‘/’ & ‘//’\n",
    "- (ii) ‘**’ & ‘^’"
   ]
  },
  {
   "cell_type": "markdown",
   "id": "6f8fad63",
   "metadata": {},
   "source": [
    "### (i) \"/\" and \"//\"\n",
    "\n",
    "/ uses for division . after using this output value comes in float (data type)"
   ]
  },
  {
   "cell_type": "code",
   "execution_count": 7,
   "id": "7a5e5174",
   "metadata": {},
   "outputs": [
    {
     "data": {
      "text/plain": [
       "5.0"
      ]
     },
     "execution_count": 7,
     "metadata": {},
     "output_type": "execute_result"
    }
   ],
   "source": [
    "25/5"
   ]
  },
  {
   "cell_type": "markdown",
   "id": "1444f6df",
   "metadata": {},
   "source": [
    "\"//\" also uses in division of digits but in this case we get the output in integer data type"
   ]
  },
  {
   "cell_type": "code",
   "execution_count": 8,
   "id": "421e5774",
   "metadata": {},
   "outputs": [
    {
     "data": {
      "text/plain": [
       "5"
      ]
     },
     "execution_count": 8,
     "metadata": {},
     "output_type": "execute_result"
    }
   ],
   "source": [
    "25//5"
   ]
  },
  {
   "cell_type": "code",
   "execution_count": 9,
   "id": "949c4287",
   "metadata": {},
   "outputs": [
    {
     "data": {
      "text/plain": [
       "1"
      ]
     },
     "execution_count": 9,
     "metadata": {},
     "output_type": "execute_result"
    }
   ],
   "source": [
    "2^3"
   ]
  },
  {
   "cell_type": "code",
   "execution_count": 10,
   "id": "e933f2ff",
   "metadata": {},
   "outputs": [
    {
     "data": {
      "text/plain": [
       "8"
      ]
     },
     "execution_count": 10,
     "metadata": {},
     "output_type": "execute_result"
    }
   ],
   "source": [
    "2**3"
   ]
  },
  {
   "cell_type": "code",
   "execution_count": 16,
   "id": "1716b398",
   "metadata": {},
   "outputs": [
    {
     "data": {
      "text/plain": [
       "6"
      ]
     },
     "execution_count": 16,
     "metadata": {},
     "output_type": "execute_result"
    }
   ],
   "source": [
    "5^3"
   ]
  },
  {
   "cell_type": "markdown",
   "id": "a4c09bfb",
   "metadata": {},
   "source": [
    "### Q.3. List the logical operators."
   ]
  },
  {
   "cell_type": "markdown",
   "id": "ad001b37",
   "metadata": {},
   "source": [
    "In Python, the logical operators are used to perform logical operations on boolean values. The three logical operators in Python are:\n",
    "\n",
    "- and\n",
    "- or\n",
    "- not"
   ]
  },
  {
   "cell_type": "markdown",
   "id": "a2542805",
   "metadata": {},
   "source": [
    "### Q.4. Explain right shift operator and left shift operator with examples."
   ]
  },
  {
   "cell_type": "markdown",
   "id": "a0f79b18",
   "metadata": {},
   "source": [
    "In Python, the right shift operator (>>) and left shift operator (<<) are bitwise operators used to perform shifting of bits in integer values. These operators are used to move the bits of a number either to the right or to the left."
   ]
  },
  {
   "cell_type": "code",
   "execution_count": 21,
   "id": "aafe3998",
   "metadata": {},
   "outputs": [
    {
     "name": "stdout",
     "output_type": "stream",
     "text": [
      "2\n"
     ]
    }
   ],
   "source": [
    "x = 8  # Binary: 1000\n",
    "\n",
    "# Right shift by 2 positions\n",
    "result = x >> 2  # Binary: 10\n",
    "print(result)   # Output: 2\n"
   ]
  },
  {
   "cell_type": "code",
   "execution_count": 22,
   "id": "1990c6bc",
   "metadata": {},
   "outputs": [
    {
     "name": "stdout",
     "output_type": "stream",
     "text": [
      "32\n"
     ]
    }
   ],
   "source": [
    "y = 4  # Binary: 100\n",
    "\n",
    "# Left shift by 3 positions\n",
    "result = y << 3  # Binary: 100000\n",
    "print(result)    # Output: 32\n"
   ]
  },
  {
   "cell_type": "markdown",
   "id": "016232bd",
   "metadata": {},
   "source": [
    "### Q.5. Create a list containing int type data of length 15. Then write a code to check if 10 is present in the list or not."
   ]
  },
  {
   "cell_type": "code",
   "execution_count": 30,
   "id": "34954b0c",
   "metadata": {},
   "outputs": [
    {
     "data": {
      "text/plain": [
       "[None, None, None, None, None, None, None, None, None, None]"
      ]
     },
     "execution_count": 30,
     "metadata": {},
     "output_type": "execute_result"
    }
   ],
   "source": [
    "[l.append(i) for i in  range (10)]"
   ]
  },
  {
   "cell_type": "code",
   "execution_count": 35,
   "id": "b2f26356",
   "metadata": {},
   "outputs": [],
   "source": [
    "l = []\n",
    "for i in range (15) :\n",
    "    l.append(i)\n"
   ]
  },
  {
   "cell_type": "code",
   "execution_count": 36,
   "id": "d50c3c13",
   "metadata": {},
   "outputs": [
    {
     "data": {
      "text/plain": [
       "[0, 1, 2, 3, 4, 5, 6, 7, 8, 9, 10, 11, 12, 13, 14]"
      ]
     },
     "execution_count": 36,
     "metadata": {},
     "output_type": "execute_result"
    }
   ],
   "source": [
    "l"
   ]
  },
  {
   "cell_type": "code",
   "execution_count": 37,
   "id": "bcfb5e61",
   "metadata": {},
   "outputs": [
    {
     "name": "stdout",
     "output_type": "stream",
     "text": [
      "10 is found in the list l\n"
     ]
    }
   ],
   "source": [
    "if 10 in l :\n",
    "    print(f\"10 is found in the list l\")\n",
    "else :\n",
    "    print(\"10 is not in the list\")"
   ]
  },
  {
   "cell_type": "code",
   "execution_count": null,
   "id": "8ab5323b",
   "metadata": {},
   "outputs": [],
   "source": []
  },
  {
   "cell_type": "code",
   "execution_count": null,
   "id": "89a57677",
   "metadata": {},
   "outputs": [],
   "source": []
  },
  {
   "cell_type": "markdown",
   "id": "112244dc",
   "metadata": {},
   "source": [
    "## Done !!"
   ]
  },
  {
   "cell_type": "code",
   "execution_count": null,
   "id": "adfae617",
   "metadata": {},
   "outputs": [],
   "source": []
  }
 ],
 "metadata": {
  "kernelspec": {
   "display_name": "Python 3 (ipykernel)",
   "language": "python",
   "name": "python3"
  },
  "language_info": {
   "codemirror_mode": {
    "name": "ipython",
    "version": 3
   },
   "file_extension": ".py",
   "mimetype": "text/x-python",
   "name": "python",
   "nbconvert_exporter": "python",
   "pygments_lexer": "ipython3",
   "version": "3.11.2"
  }
 },
 "nbformat": 4,
 "nbformat_minor": 5
}
