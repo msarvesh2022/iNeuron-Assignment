{
 "cells": [
  {
   "cell_type": "markdown",
   "id": "80c7757a",
   "metadata": {},
   "source": [
    "### 1. What is the primary goal of Object-Oriented Programming (OOP)?"
   ]
  },
  {
   "cell_type": "markdown",
   "id": "1863e2df",
   "metadata": {},
   "source": [
    "The primary goal of Object-Oriented Programming (OOP) is to provide a way to structure and organize code by representing real-world objects or entities as software objects. OOP aims to improve software development by promoting concepts such as encapsulation, inheritance, polymorphism, and abstraction.\n",
    "\n",
    "- Encapsulation: OOP encourages bundling data (attributes) and the methods (functions) that operate on that data into objects. Encapsulation hides the internal details of an object and provides a clear interface for interacting with it, allowing for better code organization and modularity.\n",
    "\n",
    "- Inheritance: Inheritance allows the creation of new classes based on existing classes, enabling the reuse of code and the creation of hierarchical relationships. Through inheritance, classes can inherit properties and behaviors from their parent classes, promoting code reusability and reducing redundancy.\n",
    "\n",
    "*By employing these principles, OOP aims to create modular, reusable, and maintainable code, making it easier to understand, modify, and extend software systems. Additionally, OOP promotes the concept of code organization around objects, enabling collaboration among developers and fostering the development of large-scale software applications. "
   ]
  },
  {
   "cell_type": "markdown",
   "id": "cc58ce67",
   "metadata": {},
   "source": [
    "### 2. What is an object in Python?"
   ]
  },
  {
   "cell_type": "markdown",
   "id": "4e016f8c",
   "metadata": {},
   "source": [
    "A class is a blueprint or template that defines the structure and behavior of objects. It specifies the attributes (data) and methods (functions) that an object of that class will possess. When you create an object, you are creating a unique instance of that class with its own set of attributes and behavior."
   ]
  },
  {
   "cell_type": "markdown",
   "id": "44f11aca",
   "metadata": {},
   "source": [
    "### 3. What is a class in Python?"
   ]
  },
  {
   "cell_type": "markdown",
   "id": "c081d53e",
   "metadata": {},
   "source": [
    "In Python, a class is a blueprint or template for creating objects (instances) of that class. It defines the structure, behavior, and attributes that objects of the class will have. A class serves as a container that encapsulates related data (attributes) and functions (methods) into a single entity.\n",
    "\n",
    "The syntax for defining a class in Python is as follows:"
   ]
  },
  {
   "cell_type": "code",
   "execution_count": 1,
   "id": "ce90f058",
   "metadata": {},
   "outputs": [],
   "source": [
    "# code\n",
    "class Classname:\n",
    "    pass"
   ]
  },
  {
   "cell_type": "markdown",
   "id": "86737501",
   "metadata": {},
   "source": [
    "### 4. What are attributes and methods in a class?"
   ]
  },
  {
   "cell_type": "markdown",
   "id": "95690a49",
   "metadata": {},
   "source": [
    "1. Attributes: Attributes are variables associated with a class or an object. They represent the data or state of the object and define its characteristics. Attributes can be thought of as the properties or variables that hold values specific to each object of the class. There are two types of attributes in a class:\n",
    "\n",
    "\n",
    "2. Methods: Methods are functions associated with a class. They define the behavior or actions that objects of the class can perform. Methods operate on the attributes of a class or perform specific operations relevant to the class. There are different types of methods in a class:"
   ]
  },
  {
   "cell_type": "code",
   "execution_count": null,
   "id": "b537260a",
   "metadata": {},
   "outputs": [],
   "source": []
  },
  {
   "cell_type": "markdown",
   "id": "015b5325",
   "metadata": {},
   "source": [
    "### 5 What is the difference between class variables and instance variables in Python?"
    "Class Variables:\n",
    "- Scope: Class variables are defined at the class level and are shared among all instances of that class.\n",
    "- Declaration: Class variables are declared outside of any method in the class, usually at the top level."
   ]
  },
  {
   "cell_type": "markdown",
   "id": "dfd6465c",
   "metadata": {},
   "source": [
    "Instance Variables:\n",
    "- Scope: Instance variables are specific to each instance (object) of a class.\n",
    "- Declaration: They are defined within the methods of the class, usually within the constructor (__init__() method)."
   ]
  },
  {
   "cell_type": "code",
   "execution_count": 7,
   "id": "04cf10b7",
   "metadata": {},
   "outputs": [],
   "source": [
    "# example\n",
    "\n",
    "\n",
    "\n",
    "class classname:\n",
    "    year= 2023                       # class variable\n",
    "    \n",
    "    def __init__(self,name,age):\n",
    "        self.name= name              # Instance variable\n",
    "        self.age=age"
   ]
  },
  {
   "cell_type": "markdown",
   "id": "f18aed85",
   "metadata": {},
   "source": [
    "### 6. What is the purpose of the self parameter in Python class methods?"
   ]
  },
  {
   "cell_type": "markdown",
   "id": "80ada144",
   "metadata": {},
   "source": [
    "The purpose of the self parameter is to allow access to the instance attributes and methods within the class methods. It acts as a reference to the instance on which the method is called. By using self, you can retrieve and manipulate the specific instance's data and behavior"
   ]
  },
  {
   "cell_type": "markdown",
   "id": "68122093",
   "metadata": {},
   "source": [
    "### 7. For a library management system, you have to design the \"Book\" class with OOP principles in mind. The “Book” class will have following attributes:\n",
    "- a. title: Represents the title of the book.\n",
    "- b. author: Represents the author(s) of the book.\n",
    "- c. isbn: Represents the ISBN (International Standard Book Number) of the book.\n",
    "- d. publication_year: Represents the year of publication of the book.\n",
    "- e. available_copies: Represents the number of copies available for checkout.\n",
    "### The class will also include the following methods:\n",
    "- a. check_out(self): Decrements the available copies by one if there are copies available for checkout.\n",
    "- b. return_book(self): Increments the available copies by one when a book is returned.\n",
    "- c. display_book_info(self): Displays the information about the book, including its attributes and the number of available copies."
   ]
  },
  {
   "cell_type": "code",
   "execution_count": 29,
   "id": "c221d7e9",
   "metadata": {},
   "outputs": [],
   "source": [
    "class Book:\n",
    "    def __init__(self,title,author,isbn,publicaion_year,available_copies):\n",
    "        \n",
    "        self.title=title\n",
    "        self.author=author\n",
    "        self.isbn=isbn\n",
    "        self.publicaion_year= publicaion_year\n",
    "        self.available_copies=available_copies\n",
    "        \n",
    "        \n",
    "    def check_out(self,a):\n",
    "        self.available_copies-=a\n",
    "        \n",
    "    def return_book(self,a):\n",
    "        self.available_copies+=a    \n",
    "        \n",
    "    def display_book(self):\n",
    "        print(f\"The book {self.title} have only {self.available_copies} copies with isbn number {self.isbn}\" )"
   ]
  },
  {
   "cell_type": "code",
   "execution_count": 30,
   "id": "5f66ea82",
   "metadata": {},
   "outputs": [],
   "source": [
    "b1 = Book(\"Rework\" , 'Sarvesh','123', '2009',5)"
   ]
  },
  {
   "cell_type": "code",
   "execution_count": 31,
   "id": "d55fa0ee",
   "metadata": {},
   "outputs": [
    {
     "name": "stdout",
     "output_type": "stream",
     "text": [
      "The book Rework have only 5 copies with isbn number 123\n"
     ]
    }
   ],
   "source": [
    "b1.display_book()"
   ]
  },
  {
   "cell_type": "code",
   "execution_count": 32,
   "id": "97f9f361",
   "metadata": {},
   "outputs": [],
   "source": [
    "b1.check_out(2)"
   ]
  },
  {
   "cell_type": "code",
   "execution_count": 33,
   "id": "06deee0f",
   "metadata": {},
   "outputs": [
    {
     "name": "stdout",
     "output_type": "stream",
     "text": [
      "The book Rework have only 3 copies with isbn number 123\n"
     ]
    }
   ],
   "source": [
    "b1.display_book()"
   ]
  },
  {
   "cell_type": "code",
   "execution_count": 34,
   "id": "54c64f81",
   "metadata": {},
   "outputs": [],
   "source": [
    "b1.return_book(1)"
   ]
  },
  {
   "cell_type": "code",
   "execution_count": 35,
   "id": "aebf792a",
   "metadata": {},
   "outputs": [
    {
     "name": "stdout",
     "output_type": "stream",
     "text": [
      "The book Rework have only 4 copies with isbn number 123\n"
     ]
    }
   ],
   "source": [
    "b1.display_book()"
   ]
  },
  {
   "cell_type": "code",
   "execution_count": 45,
   "id": "bbdd1f40",
   "metadata": {},
   "outputs": [],
   "source": [
    "class ticket :\n",
    "    def __init__(self,name,status):\n",
    "        self.name=name\n",
    "        self.status=status\n",
    "        \n",
    "    def book(self,fill):\n",
    "        if self.fill=='I have booked':\n",
    "            self.status==\"booked\"\n",
    "        \n",
    "    def display(self)    :\n",
    "        print(f\"Hello {self.name} , you ticket status is {self.status}\")"
   ]
  },
  {
   "cell_type": "code",
   "execution_count": 46,
   "id": "e43e4875",
   "metadata": {},
   "outputs": [],
   "source": [
    "p1 = ticket('Sarvesh', \"Running\")"
   ]
  },
  {
   "cell_type": "code",
   "execution_count": 44,
   "id": "f38b41c3",
   "metadata": {},
   "outputs": [
    {
     "name": "stdout",
     "output_type": "stream",
     "text": [
      "Hello Sarvesh , you ticket status is Running\n"
     ]
    }
   ],
   "source": [
    "p1.display()"
   ]
  },
  {
   "cell_type": "markdown",
   "id": "0710d2fe",
   "metadata": {},
   "source": [
    "### 8. For a ticket booking system, you have to design the \"Ticket\" class with OOP principles in mind. The “Ticket” class should have the following attributes:\n",
    "- a. ticket_id: Represents the unique identifier for the ticket.\n",
    "- b. event_name: Represents the name of the event.\n",
    "- c. event_date: Represents the date of the event.\n",
    "- d. venue: Represents the venue of the event.\n",
    "- e. seat_number: Represents the seat number associated with the ticket.\n",
    "- f. price: Represents the price of the ticket.\n",
    "- g. is_reserved: Represents the reservation status of the ticket.\n",
    "- The class also includes the following methods:\n",
    "- a. reserve_ticket(self): Marks the ticket as reserved if it is not already reserved.\n",
    "- b. cancel_reservation(self): Cancels the reservation of the ticket if it is already reserved.\n",
    "- c. display_ticket_info(self): Displays the information about the ticket, including its attributes and reservation status."
   ]
  },
  {
   "cell_type": "code",
   "execution_count": 11,
   "id": "242f0e17",
   "metadata": {},
   "outputs": [],
   "source": [
    "class Ticket:\n",
    "    def __init__(self, ticket_id, event_name, event_date, venue, seat_number, price):\n",
    "        self.ticket_id = ticket_id\n",
    "        self.event_name = event_name\n",
    "        self.event_date = event_date\n",
    "        self.venue = venue\n",
    "        self.seat_number = seat_number\n",
    "        self.price = price\n",
    "        self.is_reserved = False\n",
    "\n",
    "    def reserve_ticket(self):\n",
    "        if not self.is_reserved:\n",
    "            self.is_reserved = True\n",
    "            print(\"Ticket reserved successfully.\")\n",
    "        else:\n",
    "            print(\"Ticket is already reserved.\")\n",
    "\n",
    "    def cancel_reservation(self):\n",
    "        if self.is_reserved:\n",
    "            self.is_reserved = False\n",
    "            print(\"Ticket reservation canceled successfully.\")\n",
    "        else:\n",
    "            print(\"Ticket is not reserved.\")\n",
    "\n",
    "    def display_ticket_info(self):\n",
    "        print(\"Ticket ID:\", self.ticket_id)\n",
    "        print(\"Event Name:\", self.event_name)\n",
    "        print(\"Event Date:\", self.event_date)\n",
    "        print(\"Venue:\", self.venue)\n",
    "        print(\"Seat Number:\", self.seat_number)\n",
    "        print(\"Price:\", self.price)\n",
    "        print(\"Reservation Status:\", \"Reserved\" if self.is_reserved else \"Not Reserved\")\n"
   ]
  },
  {
   "cell_type": "code",
   "execution_count": 12,
   "id": "f948282b",
   "metadata": {},
   "outputs": [
    {
     "name": "stdout",
     "output_type": "stream",
     "text": [
      "Ticket reserved successfully.\n",
      "Ticket reservation canceled successfully.\n",
      "Ticket ID: T123\n",
      "Event Name: Concert\n",
      "Event Date: 2023-08-15\n",
      "Venue: City Hall\n",
      "Seat Number: A10\n",
      "Price: 50.0\n",
      "Reservation Status: Not Reserved\n"
     ]
    }
   ],
   "source": [
    "# Create a ticket object\n",
    "ticket1 = Ticket(\"T123\", \"Concert\", \"2023-08-15\", \"City Hall\", \"A10\", 50.0)\n",
    "\n",
    "# Reserve the ticket\n",
    "ticket1.reserve_ticket()\n",
    "\n",
    "# Cancel the reservation\n",
    "ticket1.cancel_reservation()\n",
    "\n",
    "# Display ticket information\n",
    "ticket1.display_ticket_info()\n"
   ]
  },
  {
   "cell_type": "code",
   "execution_count": 13,
   "id": "054bb26b",
   "metadata": {},
   "outputs": [
    {
     "name": "stdout",
     "output_type": "stream",
     "text": [
      "Ticket reserved successfully.\n"
     ]
    }
   ],
   "source": [
    "ticket1.reserve_ticket()"
   ]
  },
  {
   "cell_type": "code",
   "execution_count": 14,
   "id": "3a160064",
   "metadata": {},
   "outputs": [
    {
     "name": "stdout",
     "output_type": "stream",
     "text": [
      "Ticket ID: T123\n",
      "Event Name: Concert\n",
      "Event Date: 2023-08-15\n",
      "Venue: City Hall\n",
      "Seat Number: A10\n",
      "Price: 50.0\n",
      "Reservation Status: Reserved\n"
     ]
    }
   ],
   "source": [
    "ticket1.display_ticket_info()"
   ]
  },
  {
   "cell_type": "code",
   "execution_count": 15,
   "id": "d855a8e2",
   "metadata": {},
   "outputs": [
    {
     "name": "stdout",
     "output_type": "stream",
     "text": [
      "Ticket reservation canceled successfully.\n"
     ]
    }
   ],
   "source": [
    "ticket1.cancel_reservation()"
   ]
  },
  {
   "cell_type": "code",
   "execution_count": 16,
   "id": "65c76946",
   "metadata": {},
   "outputs": [
    {
     "name": "stdout",
     "output_type": "stream",
     "text": [
      "Ticket ID: T123\n",
      "Event Name: Concert\n",
      "Event Date: 2023-08-15\n",
      "Venue: City Hall\n",
      "Seat Number: A10\n",
      "Price: 50.0\n",
      "Reservation Status: Not Reserved\n"
     ]
    }
   ],
   "source": [
    "ticket1.display_ticket_info()"
   ]
  },
  {
   "cell_type": "markdown",
   "id": "83efddbd",
   "metadata": {},
   "source": [
    "### 9. You are creating a shopping cart for an e-commerce website. Using OOP to model the \"ShoppingCart\" functionality the class should contain following attributes and methods:\n",
    "- a. items: Represents the list of items in the shopping cart.\n",
    "The class also includes the following methods:\n",
    "\n",
    "- a. add_item(self, item): Adds an item to the shopping cart by appending it to the list of items.\n",
    "- b. remove_item(self, item): Removes an item from the shopping cart if it exists in the list.\n",
    "- c. view_cart(self): Displays the items currently present in the shopping cart.\n",
    "- d. clear_cart(self): Clears all items from the shopping cart by reassigning an empty list to the items attribute."
   ]
  },
  {
   "cell_type": "code",
   "execution_count": 62,
   "id": "15a5b0ab",
   "metadata": {},
   "outputs": [],
   "source": [
    "class ShoppingCart:\n",
    "    def __init__(self):\n",
    "        self.items = []\n",
    "\n",
    "    def add_item(self, item):\n",
    "        self.item = item\n",
    "        self.items.append(item)\n",
    "        print(f\"{self.item} added to the shopping cart.\")\n",
    "\n",
    "    def remove_item(self, item):\n",
    "        self.item = item\n",
    "        if item in self.items:\n",
    "            self.items.remove(item)\n",
    "            print(f\"{self.item} removed from the shopping cart.\")\n",
    "        else:\n",
    "            print(\"Item does not exist in the shopping cart.\")\n",
    "\n",
    "    def view_cart(self):\n",
    "        if self.items:\n",
    "            print(\"Items in the shopping cart:\")\n",
    "            for item in self.items:\n",
    "                print(item)\n",
    "        else:\n",
    "            print(\"Shopping cart is empty.\")\n",
    "\n",
    "    def clear_cart(self):\n",
    "        self.items = []\n",
    "        print(\"Shopping cart cleared.\")\n",
    "\n"
   ]
  },
  {
   "cell_type": "code",
   "execution_count": 63,
   "id": "db23a308",
   "metadata": {},
   "outputs": [],
   "source": [
    "cart_1 = ShoppingCart()"
   ]
  },
  {
   "cell_type": "code",
   "execution_count": 64,
   "id": "7ba5a630",
   "metadata": {},
   "outputs": [
    {
     "name": "stdout",
     "output_type": "stream",
     "text": [
      "Bag added to the shopping cart.\n",
      "Books added to the shopping cart.\n",
      "clothes added to the shopping cart.\n"
     ]
    }
   ],
   "source": [
    "cart_1.add_item('Bag')\n",
    "cart_1.add_item('Books')\n",
    "cart_1.add_item('clothes')"
   ]
  },
  {
   "cell_type": "code",
   "execution_count": 65,
   "id": "875a126b",
   "metadata": {},
   "outputs": [
    {
     "name": "stdout",
     "output_type": "stream",
     "text": [
      "Items in the shopping cart:\n",
      "Bag\n",
      "Books\n",
      "clothes\n"
     ]
    }
   ],
   "source": [
    "cart_1.view_cart()"
   ]
  },
  {
   "cell_type": "code",
   "execution_count": 66,
   "id": "38e31e4b",
   "metadata": {},
   "outputs": [
    {
     "name": "stdout",
     "output_type": "stream",
     "text": [
      "Bag removed from the shopping cart.\n"
     ]
    }
   ],
   "source": [
    "cart_1.remove_item('Bag')"
   ]
  },
  {
   "cell_type": "code",
   "execution_count": 67,
   "id": "3db65c8c",
   "metadata": {},
   "outputs": [
    {
     "name": "stdout",
     "output_type": "stream",
     "text": [
      "Items in the shopping cart:\n",
      "Books\n",
      "clothes\n"
     ]
    }
   ],
   "source": [
    "cart_1.view_cart()"
   ]
  },
  {
   "cell_type": "code",
   "execution_count": 68,
   "id": "7959c465",
   "metadata": {},
   "outputs": [
    {
     "name": "stdout",
     "output_type": "stream",
     "text": [
      "Shopping cart cleared.\n"
     ]
    }
   ],
   "source": [
    "cart_1.clear_cart()"
   ]
  },
  {
   "cell_type": "markdown",
   "id": "bf0f74fe",
   "metadata": {},
   "source": [
    "### 10. Imagine a school management system. You have to design the \"Student\" class using OOP concepts.The   “Student” class has the following attributes:\n",
    "- a. name: Represents the name of the student.\n",
    "- b. age: Represents the age of the student.\n",
    "- c. grade: Represents the grade or class of the student.\n",
    "- d. student_id: Represents the unique identifier for the student.\n",
    "- e. attendance: Represents the attendance record of the student.\n",
    "- The class should also include the following methods:\n",
    "- a. update_attendance(self, date, status): Updates the attendance record of the student for a given date with the provided status (e.g., present or absent).\n",
    "- b. get_attendance(self): Returns the attendance record of the student.\n",
    "- c. get_average_attendance(self): Calculates and returns the average attendance percentage of the student based on their attendance record."
   ]
  },
  {
   "cell_type": "code",
   "execution_count": 75,
   "id": "1debad56",
   "metadata": {},
   "outputs": [],
   "source": [
    "class Student:\n",
    "    def __init__(self, name, age, grade, student_id):\n",
    "        self.name = name\n",
    "        self.age = age\n",
    "        self.grade = grade\n",
    "        self.student_id = student_id\n",
    "        self.attendance = {}\n",
    "\n",
    "    def update_attendance(self, date, status):\n",
    "        self.attendance[date] = status\n",
    "\n",
    "    def get_attendance(self):\n",
    "        return self.attendance\n",
    "\n",
    "    def get_average_attendance(self):\n",
    "        if not self.attendance:\n",
    "            return 0.0\n",
    "\n",
    "        total_days = len(self.attendance)\n",
    "        present_days = sum(1 for status in self.attendance.values() if status == \"present\")\n",
    "        average_attendance = (present_days / total_days) * 100\n",
    "        return average_attendance\n"
   ]
  },
  {
   "cell_type": "code",
   "execution_count": 76,
   "id": "a6736b4b",
   "metadata": {},
   "outputs": [
    {
     "name": "stdout",
     "output_type": "stream",
     "text": [
      "Attendance Record: {'2023-07-01': 'present', '2023-07-02': 'absent', '2023-07-03': 'present'}\n",
      "Average Attendance: 66.67%\n"
     ]
    }
   ],
   "source": [
    "# Creating a student instance\n",
    "student1 = Student(\"John Doe\", 15, \"10th Grade\", \"S001\")\n",
    "\n",
    "# Updating attendance\n",
    "student1.update_attendance(\"2023-07-01\", \"present\")\n",
    "student1.update_attendance(\"2023-07-02\", \"absent\")\n",
    "student1.update_attendance(\"2023-07-03\", \"present\")\n",
    "\n",
    "# Get attendance\n",
    "attendance_record = student1.get_attendance()\n",
    "print(\"Attendance Record:\", attendance_record)\n",
    "\n",
    "# Get average attendance\n",
    "average_attendance = student1.get_average_attendance()\n",
    "print(\"Average Attendance: {:.2f}%\".format(average_attendance))\n"
   ]
  },
  {
   "cell_type": "code",
   "execution_count": null,
   "id": "ad50b847",
   "metadata": {},
   "outputs": [],
   "source": []
  },
  {
   "cell_type": "code",
   "execution_count": null,
   "id": "f5ab36fe",
   "metadata": {},
   "outputs": [],
   "source": []
  },
  {
   "cell_type": "code",
   "execution_count": null,
   "id": "b3c44fc4",
   "metadata": {},
   "outputs": [],
   "source": []
  },
  {
   "cell_type": "markdown",
   "id": "6b40f710",
   "metadata": {},
   "source": [
    "## Done !!"
   ]
  },
  {
   "cell_type": "code",
   "execution_count": null,
   "id": "0d26ea44",
   "metadata": {},
   "outputs": [],
   "source": []
  }
 ],
 "metadata": {
  "kernelspec": {
   "display_name": "Python 3 (ipykernel)",
   "language": "python",
   "name": "python3"
  },
  "language_info": {
   "codemirror_mode": {
    "name": "ipython",
    "version": 3
   },
   "file_extension": ".py",
   "mimetype": "text/x-python",
   "name": "python",
   "nbconvert_exporter": "python",
   "pygments_lexer": "ipython3",
   "version": "3.11.2"
  }
 },
 "nbformat": 4,
 "nbformat_minor": 5
}
