{
 "cells": [
  {
   "cell_type": "markdown",
   "id": "368842c0",
   "metadata": {},
   "source": [
    "### 1. In Python, what is the difference between a built-in function and a user-defined function? Provide an example of each."
   ]
  },
  {
   "cell_type": "markdown",
   "id": "d749f315",
   "metadata": {},
   "source": [
    "Built-in functions:\n",
    "\n",
    "Built-in functions are provided by the Python programming language itself as part of its standard library.\n",
    "They are pre-defined and readily available for use without requiring any additional imports or installations.\n",
    "Built-in functions cover a wide range of functionalities and are designed to perform common operations efficiently.\n",
    "\n",
    "example - \n",
    "\n",
    "print(), len() , count()"
   ]
  },
  {
   "cell_type": "markdown",
   "id": "1ccd2671",
   "metadata": {},
   "source": [
    "User-defined functions:\n",
    "\n",
    "- User-defined functions are created by the users themselves to perform specific tasks or operations.\n",
    "\n",
    "- Users can define their own functions to encapsulate a set of statements and execute them as a single unit.\n",
    "\n",
    "- User-defined functions allow for code reusability, modularity, and abstraction.\n",
    "\n",
    "example - \n",
    "\n",
    "def sum_all(a,b,c):\n",
    "    return a+b+c"
   ]
  },
  {
   "cell_type": "markdown",
   "id": "89dabc0e",
   "metadata": {},
   "source": [
    "### 2. How can you pass arguments to a function in Python? Explain the difference between positional arguments and keyword arguments."
   ]
  },
  {
   "cell_type": "markdown",
   "id": "bf13a118",
   "metadata": {},
   "source": [
    "#### Positional Arguments:\n",
    "\n",
    "Positional arguments are passed to a function based on their position or order.\n",
    "\n",
    "When calling a function with positional arguments, the values are matched to the function parameters in the order they are defined.\n",
    "\n",
    "The number of positional arguments passed must match the number of parameters defined in the function.\n",
    "\n",
    "\n",
    "\n",
    "#### Keyword Arguments:\n",
    "\n",
    "Keyword arguments are passed to a function using the parameter name explicitly.\n",
    "\n",
    "When calling a function with keyword arguments, the arguments are matched to the function parameters based on their names, regardless of their order.\n",
    "\n",
    "Keyword arguments provide more flexibility as they allow you to specify only the arguments you want to pass, skipping others with default values."
   ]
  },
  {
   "cell_type": "code",
   "execution_count": 4,
   "id": "d72e44f6",
   "metadata": {},
   "outputs": [
    {
     "name": "stdout",
     "output_type": "stream",
     "text": [
      "Hello, Sarvesh! You are 21 years old.\n"
     ]
    }
   ],
   "source": [
    "# positional arguments \n",
    "def greet(name, age):\n",
    "    print(\"Hello, \" + name + \"! You are \" + str(age) + \" years old.\")\n",
    "\n",
    "greet(\"Sarvesh\", 21)\n"
   ]
  },
  {
   "cell_type": "code",
   "execution_count": 3,
   "id": "9113699f",
   "metadata": {},
   "outputs": [
    {
     "name": "stdout",
     "output_type": "stream",
     "text": [
      "Hello, Sarvesh! You are 21 years old.\n"
     ]
    }
   ],
   "source": [
    "# keyword arguments \n",
    "def greet(name, age):\n",
    "    print(\"Hello, \" + name + \"! You are \" + str(age) + \" years old.\")\n",
    "\n",
    "greet(age=21, name=\"Sarvesh\")\n"
   ]
  },
  {
   "cell_type": "markdown",
   "id": "b8ffdfa2",
   "metadata": {},
   "source": [
    "### 3. What is the purpose of the return statement in a function? Can a function have multiple return statements? Explain with an example."
   ]
  },
  {
   "cell_type": "markdown",
   "id": "737322ba",
   "metadata": {},
   "source": [
    "Solution - \n",
    "\n",
    "A function can indeed have multiple return statements. However, only one return statement is executed during a single function call. When a return statement is executed, it terminates the function and returns the specified value. Subsequent return statements after the first executed return statement are not reached."
   ]
  },
  {
   "cell_type": "code",
   "execution_count": 5,
   "id": "7df8a793",
   "metadata": {},
   "outputs": [
    {
     "name": "stdout",
     "output_type": "stream",
     "text": [
      "Odd\n",
      "Even\n"
     ]
    }
   ],
   "source": [
    "def check_even_odd(number):\n",
    "    if number % 2 == 0:\n",
    "        return \"Even\"\n",
    "    else:\n",
    "        return \"Odd\"\n",
    "\n",
    "result1 = check_even_odd(5)\n",
    "print(result1)  # Output: Odd\n",
    "\n",
    "result2 = check_even_odd(10)\n",
    "print(result2)  # Output: Even\n"
   ]
  },
  {
   "cell_type": "markdown",
   "id": "97e4585b",
   "metadata": {},
   "source": [
    "### 4. What are lambda functions in Python? How are they different from regular functions? Provide an example where a lambda function can be useful."
   ]
  },
  {
   "cell_type": "markdown",
   "id": "10a00fa6",
   "metadata": {},
   "source": [
    "Solution\n",
    "\n",
    "Lambda functions, also known as anonymous functions, are a way to create small, one-line functions without using the def keyword. They are defined using the lambda keyword, followed by the function's parameters, a colon, and the expression to be evaluated."
   ]
  },
  {
   "cell_type": "markdown",
   "id": "7b267d91",
   "metadata": {},
   "source": [
    "lambda arguments : expression"
   ]
  },
  {
   "cell_type": "markdown",
   "id": "d607a524",
   "metadata": {},
   "source": [
    "Lambda functions are different from regular functions in the following ways:\n",
    "\n",
    "- Syntax: Lambda functions are written in a more concise syntax compared to regular functions. They are typically used for simple, short functions where a full function definition is unnecessary.\n",
    "\n",
    "- Nameless: Lambda functions are anonymous functions, meaning they don't have a specific name associated with them. They are usually used where the function is needed as an argument to another function or as a one-time expression.\n",
    "\n",
    "- Single expression: Lambda functions can only contain a single expression that is evaluated and returned as the function's result. They cannot include statements or multiple lines of code."
   ]
  },
  {
   "cell_type": "code",
   "execution_count": 8,
   "id": "493abfe4",
   "metadata": {},
   "outputs": [
    {
     "name": "stdout",
     "output_type": "stream",
     "text": [
      "square after using user defined function is  25\n",
      "square after using lambda function is  25\n"
     ]
    }
   ],
   "source": [
    "# Regular function to calculate the square of a number\n",
    "def square(x):\n",
    "    return x ** 2\n",
    "\n",
    "result1 = square(5)\n",
    "print(f\"square after using user defined function is  {result1}\")  # Output: 25\n",
    "  \n",
    "\n",
    "# Equivalent lambda function to calculate the square of a number\n",
    "square_lambda = lambda x: x ** 2\n",
    "\n",
    "result2 = square_lambda(5)\n",
    "print(f\"square after using lambda function is  {result2}\")  # Output: 25\n"
   ]
  },
  {
   "cell_type": "markdown",
   "id": "ecae61d5",
   "metadata": {},
   "source": [
    "### 5.  How does the concept of \"scope\" apply to functions in Python? Explain the difference between local scope and global scope."
   ]
  },
  {
   "cell_type": "markdown",
   "id": "66b5ca51",
   "metadata": {},
   "source": [
    "Solution\n",
    "\n",
    "### Local Scope:\n",
    "\n",
    "Local scope refers to variables defined within a specific function. These variables are accessible only within that function.\n",
    "\n",
    "Local variables are created when a function is called and cease to exist once the function execution completes.\n",
    "\n",
    "Local variables have limited visibility and cannot be accessed outside of the function in which they are defined.\n",
    "\n",
    "\n",
    "\n",
    "\n",
    "\n",
    "### Global Scope:\n",
    "\n",
    "Global scope refers to variables that are defined outside of any function or in the global scope of a module.\n",
    "\n",
    "Global variables are accessible from anywhere in the program, including all functions within the module.\n",
    "\n",
    "Global variables maintain their value throughout the program's execution until explicitly modified."
   ]
  },
  {
   "cell_type": "markdown",
   "id": "f288b031",
   "metadata": {},
   "source": [
    "### 6. How can you use the \"return\" statement in a Python function to return multiple values?"
   ]
  },
  {
   "cell_type": "code",
   "execution_count": 10,
   "id": "5e63ec10",
   "metadata": {},
   "outputs": [
    {
     "name": "stdout",
     "output_type": "stream",
     "text": [
      "('Sarvesh', 21, 'Male')\n",
      "Sarvesh\n",
      "21\n",
      "Male\n"
     ]
    }
   ],
   "source": [
    "# using tuple \n",
    "\n",
    "def get_person():\n",
    "    name = \"Sarvesh\"\n",
    "    age = 21\n",
    "    gender = \"Male\"\n",
    "    return name, age, gender\n",
    "\n",
    "result = get_person()\n",
    "print(result)  # Output: ('Alice', 30, 'Female')\n",
    "\n",
    "name, age, gender = get_person()\n",
    "print(name)    # Output: Alice\n",
    "print(age)     # Output: 30\n",
    "print(gender)  # Output: Female\n"
   ]
  },
  {
   "cell_type": "markdown",
   "id": "2c2a0350",
   "metadata": {},
   "source": [
    "### 7. What is the difference between the \"pass by value\" and \"pass by reference\" concepts when it comes to function arguments in Python?"
   ]
  },
  {
   "cell_type": "markdown",
   "id": "8c5c1e7c",
   "metadata": {},
   "source": [
    "In Python, when you pass an argument to a function, a reference to the object is passed. However, the behavior may seem similar to \"pass by value\" or \"pass by reference\" depending on the type of object being passed."
   ]
  },
  {
   "cell_type": "code",
   "execution_count": 13,
   "id": "cedb8a88",
   "metadata": {},
   "outputs": [
    {
     "name": "stdout",
     "output_type": "stream",
     "text": [
      "10\n"
     ]
    }
   ],
   "source": [
    "def modify_number(num):\n",
    "    num += 1\n",
    "    return num\n",
    "\n",
    "x = 10\n",
    "modify_number(x)\n",
    "print(x)  # Output: 10\n"
   ]
  },
  {
   "cell_type": "markdown",
   "id": "ce264042",
   "metadata": {},
   "source": [
    "### passed by reference\n",
    "Mutable objects in Python, such as lists and dictionaries, are passed by reference.\n",
    "\n",
    "When you pass a mutable object to a function, a reference to the object is passed, allowing modifications to be made directly to the original object."
   ]
  },
  {
   "cell_type": "code",
   "execution_count": 14,
   "id": "46b7126e",
   "metadata": {},
   "outputs": [
    {
     "name": "stdout",
     "output_type": "stream",
     "text": [
      "[1, 2, 3, 4]\n"
     ]
    }
   ],
   "source": [
    "def modify_list(my_list):\n",
    "    my_list.append(4)\n",
    "\n",
    "nums = [1, 2, 3]\n",
    "modify_list(nums)\n",
    "print(nums)  # Output: [1, 2, 3, 4]\n"
   ]
  },
  {
   "cell_type": "markdown",
   "id": "ff9ac1e6",
   "metadata": {},
   "source": [
    "### 8. Create a function that can intake integer or decimal value and do following operations:\n",
    "a. Logarithmic function (log x)\n",
    "\n",
    "b. Exponential function (exp(x))\n",
    "\n",
    "c. Power function with base 2 (2\n",
    "x\n",
    ")\n",
    "\n",
    "d. Square root"
   ]
  },
  {
   "cell_type": "code",
   "execution_count": 15,
   "id": "32f28501",
   "metadata": {},
   "outputs": [
    {
     "name": "stdout",
     "output_type": "stream",
     "text": [
      "{'logarithm': 1.6094379124341003, 'exponential': 148.4131591025766, 'power': 32.0, 'square_root': 2.23606797749979}\n",
      "{'logarithm': 1.144222799920162, 'exponential': 23.103866858722185, 'power': 8.815240927012887, 'square_root': 1.772004514666935}\n"
     ]
    }
   ],
   "source": [
    "import math\n",
    "\n",
    "def perform_operations(number):\n",
    "    # Logarithmic function (log x)\n",
    "    log_result = math.log(number)\n",
    "\n",
    "    # Exponential function (exp(x))\n",
    "    exp_result = math.exp(number)\n",
    "\n",
    "    # Power function with base 2 (2^x)\n",
    "    power_result = math.pow(2, number)\n",
    "\n",
    "    # Square root\n",
    "    sqrt_result = math.sqrt(number)\n",
    "\n",
    "    # Return the results as a dictionary\n",
    "    return {\n",
    "        'logarithm': log_result,\n",
    "        'exponential': exp_result,\n",
    "        'power': power_result,\n",
    "        'square_root': sqrt_result\n",
    "    }\n",
    "\n",
    "# Test the function with an integer value\n",
    "result1 = perform_operations(5)\n",
    "print(result1)\n",
    "\n",
    "# Test the function with a decimal value\n",
    "result2 = perform_operations(3.14)\n",
    "print(result2)\n"
   ]
  },
  {
   "cell_type": "markdown",
   "id": "f273fad1",
   "metadata": {},
   "source": [
    "### 9. Create a function that takes a full name as an argument and returns first name and last name."
   ]
  },
  {
   "cell_type": "code",
   "execution_count": 22,
   "id": "512a1d9b",
   "metadata": {},
   "outputs": [],
   "source": [
    "def check(name):\n",
    "    name= name.split()\n",
    "    print(f'first name is {name[0]} last name is {name[1]} .')"
   ]
  },
  {
   "cell_type": "code",
   "execution_count": 23,
   "id": "93d62579",
   "metadata": {},
   "outputs": [
    {
     "name": "stdout",
     "output_type": "stream",
     "text": [
      "first name is Sarvesh last name is Mishra .\n"
     ]
    }
   ],
   "source": [
    "check('Sarvesh Mishra')"
   ]
  },
  {
   "cell_type": "code",
   "execution_count": null,
   "id": "02956178",
   "metadata": {},
   "outputs": [],
   "source": []
  }
 ],
 "metadata": {
  "kernelspec": {
   "display_name": "Python 3 (ipykernel)",
   "language": "python",
   "name": "python3"
  },
  "language_info": {
   "codemirror_mode": {
    "name": "ipython",
    "version": 3
   },
   "file_extension": ".py",
   "mimetype": "text/x-python",
   "name": "python",
   "nbconvert_exporter": "python",
   "pygments_lexer": "ipython3",
   "version": "3.11.2"
  }
 },
 "nbformat": 4,
 "nbformat_minor": 5
}
