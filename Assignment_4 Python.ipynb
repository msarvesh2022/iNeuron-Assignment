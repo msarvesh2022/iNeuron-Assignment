{
 "cells": [
  {
   "cell_type": "markdown",
   "id": "1f24c4e7",
   "metadata": {},
   "source": [
    "### 1.what exactly is [ ]"
   ]
  },
  {
   "cell_type": "markdown",
   "id": "dc6bd53f",
   "metadata": {},
   "source": [
    "Solution - \n",
    "\n",
    "A list with zero elements"
   ]
  },
  {
   "cell_type": "markdown",
   "id": "7db1f612",
   "metadata": {},
   "source": [
    "### 2. In a list of values stored in a variable called spam, how would you assign the value &#39;hello&#39; as the third value? (Assume [2, 4, 6, 8, 10] are in spam.)"
   ]
  },
  {
   "cell_type": "code",
   "execution_count": 3,
   "id": "cac57550",
   "metadata": {},
   "outputs": [],
   "source": [
    "spam = [2,4,6,8,10]\n",
    "\n",
    "\n"
   ]
  },
  {
   "cell_type": "code",
   "execution_count": 4,
   "id": "82d7eea9",
   "metadata": {},
   "outputs": [
    {
     "data": {
      "text/plain": [
       "[2, 4, 6, 8, 10]"
      ]
     },
     "execution_count": 4,
     "metadata": {},
     "output_type": "execute_result"
    }
   ],
   "source": [
    "spam"
   ]
  },
  {
   "cell_type": "code",
   "execution_count": 5,
   "id": "ee9c5691",
   "metadata": {},
   "outputs": [],
   "source": [
    "spam[2] = 'hello'"
   ]
  },
  {
   "cell_type": "code",
   "execution_count": 6,
   "id": "eef5a424",
   "metadata": {},
   "outputs": [
    {
     "data": {
      "text/plain": [
       "[2, 4, 'hello', 8, 10]"
      ]
     },
     "execution_count": 6,
     "metadata": {},
     "output_type": "execute_result"
    }
   ],
   "source": [
    "spam"
   ]
  },
  {
   "cell_type": "markdown",
   "id": "be9800e6",
   "metadata": {},
   "source": [
    "### 2. In a list of values stored in a variable called spam, how would you assign the value &#39;hello&#39; as the third value? (Assume [2, 4, 6, 8, 10] are in spam.)"
   ]
  },
  {
   "cell_type": "markdown",
   "id": "87ab653a",
   "metadata": {},
   "source": [
    "3. What is the value of spam[int(int(&#39;3&#39; * 2) / 11)]?"
   ]
  },
  {
   "cell_type": "markdown",
   "id": "be4c060b",
   "metadata": {},
   "source": [
    "Solution -\n",
    "\n",
    "after solving the inner expression \n",
    "spam[3] , that is 8"
   ]
  },
  {
   "cell_type": "markdown",
   "id": "eeecd634",
   "metadata": {},
   "source": [
    "## Let&#39;s pretend the spam includes the list [&#39;a&#39;, &#39;b&#39;, &#39;c&#39;, &#39;d&#39;] for the next three queries."
   ]
  },
  {
   "cell_type": "markdown",
   "id": "f80552b4",
   "metadata": {},
   "source": [
    "### 4. What is the value of spam[-1]?"
   ]
  },
  {
   "cell_type": "markdown",
   "id": "76113043",
   "metadata": {},
   "source": [
    "Solution -\n",
    "\n",
    "spam[-1] means last element of the list \n",
    "\n",
    "that is d"
   ]
  },
  {
   "cell_type": "markdown",
   "id": "39932e72",
   "metadata": {},
   "source": [
    "### 5. What is the value of spam[:2]?"
   ]
  },
  {
   "cell_type": "markdown",
   "id": "96320d02",
   "metadata": {},
   "source": [
    "Solution -\n",
    "\n",
    "a,b"
   ]
  },
  {
   "cell_type": "markdown",
   "id": "d82f5280",
   "metadata": {},
   "source": [
    "## Let&#39;s pretend bacon has the list [3.14, &#39;cat,&#39; 11, &#39;cat,&#39; True] for the next three questions."
   ]
  },
  {
   "cell_type": "markdown",
   "id": "005961d6",
   "metadata": {},
   "source": [
    "### 6. What is the value of bacon.index(&#39;cat&#39;)?"
   ]
  },
  {
   "cell_type": "markdown",
   "id": "de8fba3a",
   "metadata": {},
   "source": [
    "Solution -\n",
    "\n",
    "Index of cat that is 3"
   ]
  },
  {
   "cell_type": "markdown",
   "id": "d8adc3ed",
   "metadata": {},
   "source": [
    "### 7. How does bacon.append(99) change the look of the list value in bacon?"
   ]
  },
  {
   "cell_type": "markdown",
   "id": "1c08234e",
   "metadata": {},
   "source": [
    "Solution -\n",
    "\n",
    "99 will add at the last position inside the bacon list -\n",
    "\n",
    "now bacon looks like - [3.14, 'cat,' 11, 'cat,' True, 99]"
   ]
  },
  {
   "cell_type": "markdown",
   "id": "de155ab5",
   "metadata": {},
   "source": [
    "### 8. How does bacon.remove(&#39;cat&#39;) change the look of the list in bacon?"
   ]
  },
  {
   "cell_type": "markdown",
   "id": "7ca7a218",
   "metadata": {},
   "source": [
    "Solution-\n",
    "\n",
    "it will remove the element 'cat' at index 1\n",
    "\n",
    "bacon =  [3.14, 11,  True]"
   ]
  },
  {
   "cell_type": "markdown",
   "id": "ae037c52",
   "metadata": {},
   "source": [
    "### 9. What are the list concatenation and list replication operators?"
   ]
  },
  {
   "cell_type": "markdown",
   "id": "73606c76",
   "metadata": {},
   "source": [
    "In Python, the list concatenation operator is the plus sign (+), which is used to combine two or more lists into a single list. Here's an example:"
   ]
  },
  {
   "cell_type": "code",
   "execution_count": 14,
   "id": "94eaf43c",
   "metadata": {},
   "outputs": [
    {
     "name": "stdout",
     "output_type": "stream",
     "text": [
      "[1, 2, 3, 4, 5, 6]\n"
     ]
    }
   ],
   "source": [
    "list1 = [1, 2, 3]\n",
    "list2 = [4, 5, 6]\n",
    "concatenated_list = list1 + list2\n",
    "print(concatenated_list)\n"
   ]
  },
  {
   "cell_type": "markdown",
   "id": "fa02e06e",
   "metadata": {},
   "source": [
    "The list replication operator is the asterisk (*) symbol. It is used to create a new list by repeating the elements of an existing list a specified number of times. Here's an example:"
   ]
  },
  {
   "cell_type": "code",
   "execution_count": 15,
   "id": "73779f6e",
   "metadata": {},
   "outputs": [
    {
     "name": "stdout",
     "output_type": "stream",
     "text": [
      "[1, 2, 3, 1, 2, 3, 1, 2, 3]\n"
     ]
    }
   ],
   "source": [
    "list1 = [1, 2, 3]\n",
    "replicated_list = list1 * 3\n",
    "print(replicated_list)\n"
   ]
  },
  {
   "cell_type": "markdown",
   "id": "0c50940f",
   "metadata": {},
   "source": [
    "### 10. What is difference between the list methods append() and insert()?"
   ]
  },
  {
   "cell_type": "markdown",
   "id": "6403168c",
   "metadata": {},
   "source": [
    "append() add the new element at the last position inside the list and in insert we give the index where we want to locate new element"
   ]
  },
  {
   "cell_type": "code",
   "execution_count": 24,
   "id": "f1153244",
   "metadata": {},
   "outputs": [],
   "source": [
    "l1 = [1,2,3,4]"
   ]
  },
  {
   "cell_type": "code",
   "execution_count": 25,
   "id": "9df2047a",
   "metadata": {},
   "outputs": [],
   "source": [
    "l1.append(3)  # 3 will be added at the last position"
   ]
  },
  {
   "cell_type": "code",
   "execution_count": 26,
   "id": "ef442802",
   "metadata": {},
   "outputs": [
    {
     "data": {
      "text/plain": [
       "[1, 2, 3, 4, 3]"
      ]
     },
     "execution_count": 26,
     "metadata": {},
     "output_type": "execute_result"
    }
   ],
   "source": [
    "l1"
   ]
  },
  {
   "cell_type": "code",
   "execution_count": 27,
   "id": "13c3a40d",
   "metadata": {},
   "outputs": [],
   "source": [
    "l1.insert(2,45)   # 45 will be added at the index 2"
   ]
  },
  {
   "cell_type": "code",
   "execution_count": 28,
   "id": "158e0c82",
   "metadata": {},
   "outputs": [
    {
     "data": {
      "text/plain": [
       "[1, 2, 45, 3, 4, 3]"
      ]
     },
     "execution_count": 28,
     "metadata": {},
     "output_type": "execute_result"
    }
   ],
   "source": [
    "l1"
   ]
  },
  {
   "cell_type": "markdown",
   "id": "825c3af8",
   "metadata": {},
   "source": [
    "### 11. What are the two methods for removing items from a list?"
   ]
  },
  {
   "cell_type": "markdown",
   "id": "7b7298ee",
   "metadata": {},
   "source": [
    "using two methods \n",
    "1. remove()\n",
    "\n",
    "2. pop()"
   ]
  },
  {
   "cell_type": "code",
   "execution_count": 29,
   "id": "0cba0a1d",
   "metadata": {},
   "outputs": [
    {
     "data": {
      "text/plain": [
       "[1, 2, 45, 3, 4, 3]"
      ]
     },
     "execution_count": 29,
     "metadata": {},
     "output_type": "execute_result"
    }
   ],
   "source": [
    "l1"
   ]
  },
  {
   "cell_type": "code",
   "execution_count": 30,
   "id": "320d891a",
   "metadata": {},
   "outputs": [],
   "source": [
    "l1.remove(45)"
   ]
  },
  {
   "cell_type": "code",
   "execution_count": 31,
   "id": "1c66e482",
   "metadata": {},
   "outputs": [
    {
     "data": {
      "text/plain": [
       "[1, 2, 3, 4, 3]"
      ]
     },
     "execution_count": 31,
     "metadata": {},
     "output_type": "execute_result"
    }
   ],
   "source": [
    "l1"
   ]
  },
  {
   "cell_type": "markdown",
   "id": "3ecbd7b5",
   "metadata": {},
   "source": [
    "### pop"
   ]
  },
  {
   "cell_type": "code",
   "execution_count": 33,
   "id": "5ee148e4",
   "metadata": {},
   "outputs": [
    {
     "data": {
      "text/plain": [
       "2"
      ]
     },
     "execution_count": 33,
     "metadata": {},
     "output_type": "execute_result"
    }
   ],
   "source": [
    "l1.pop(1)"
   ]
  },
  {
   "cell_type": "code",
   "execution_count": 34,
   "id": "1824d583",
   "metadata": {},
   "outputs": [
    {
     "data": {
      "text/plain": [
       "[1, 3, 4, 3]"
      ]
     },
     "execution_count": 34,
     "metadata": {},
     "output_type": "execute_result"
    }
   ],
   "source": [
    "l1"
   ]
  },
  {
   "cell_type": "markdown",
   "id": "44ae422e",
   "metadata": {},
   "source": [
    "### 12. Describe how list values and string values are identical."
   ]
  },
  {
   "cell_type": "markdown",
   "id": "a7f6b134",
   "metadata": {},
   "source": [
    "List values and string values share certain similarities, but they are fundamentally different in nature. Here are some points describing the similarities between list values and string values:\n",
    "\n",
    "1. Sequences: Both lists and strings are sequences of elements. They allow us to store multiple values in a single variable and access those values using indexing.\n",
    "\n",
    "2. Indexing and Slicing: Both lists and strings support indexing and slicing operations. You can access individual elements or extract sub-sequences by specifying the index or slice range.\n",
    "\n",
    "3. Iteration: You can iterate over both lists and strings using loops to perform operations on each element or character.\n",
    "\n",
    "4. Length: The len() function can be used to determine the length of both lists and strings, i.e., the number of elements or characters they contain.\n",
    "\n",
    "5. Concatenation: Both lists and strings support concatenation, which allows you to combine two or more lists/strings into a single list/string."
   ]
  },
  {
   "cell_type": "markdown",
   "id": "e8c8713f",
   "metadata": {},
   "source": [
    "### 13. What&#39;s the difference between tuples and lists?\n"
   ]
  },
  {
   "cell_type": "markdown",
   "id": "d732732e",
   "metadata": {},
   "source": [
    "1. lists are mutable but tuples are not.\n",
    "2. for define the list we use square bracket but in the list is parentheses"
   ]
  },
  {
   "cell_type": "markdown",
   "id": "808c4d27",
   "metadata": {},
   "source": [
    "### 14. How do you type a tuple value that only contains the integer 42?"
   ]
  },
  {
   "cell_type": "code",
   "execution_count": 35,
   "id": "cfa6c41c",
   "metadata": {},
   "outputs": [],
   "source": [
    "t= (42)"
   ]
  },
  {
   "cell_type": "code",
   "execution_count": 36,
   "id": "09416815",
   "metadata": {},
   "outputs": [
    {
     "data": {
      "text/plain": [
       "42"
      ]
     },
     "execution_count": 36,
     "metadata": {},
     "output_type": "execute_result"
    }
   ],
   "source": [
    "t"
   ]
  },
  {
   "cell_type": "code",
   "execution_count": 38,
   "id": "4652d6d6",
   "metadata": {},
   "outputs": [
    {
     "data": {
      "text/plain": [
       "int"
      ]
     },
     "execution_count": 38,
     "metadata": {},
     "output_type": "execute_result"
    }
   ],
   "source": [
    "type(t)"
   ]
  },
  {
   "cell_type": "markdown",
   "id": "a68173ad",
   "metadata": {},
   "source": [
    "### 15. How do you get a list value&#39;s tuple form? How do you get a tuple value&#39;s list form?"
   ]
  },
  {
   "cell_type": "code",
   "execution_count": 39,
   "id": "5dfa5615",
   "metadata": {},
   "outputs": [],
   "source": [
    "l= [1,2, (56,57)]"
   ]
  },
  {
   "cell_type": "code",
   "execution_count": 42,
   "id": "24c27295",
   "metadata": {},
   "outputs": [
    {
     "data": {
      "text/plain": [
       "(56, 57)"
      ]
     },
     "execution_count": 42,
     "metadata": {},
     "output_type": "execute_result"
    }
   ],
   "source": [
    "l[2]"
   ]
  },
  {
   "cell_type": "code",
   "execution_count": 41,
   "id": "4b096f2b",
   "metadata": {},
   "outputs": [
    {
     "data": {
      "text/plain": [
       "tuple"
      ]
     },
     "execution_count": 41,
     "metadata": {},
     "output_type": "execute_result"
    }
   ],
   "source": [
    "type(l[2])"
   ]
  },
  {
   "cell_type": "code",
   "execution_count": 43,
   "id": "3d5e1be8",
   "metadata": {},
   "outputs": [],
   "source": [
    "t= (4,5,6,[12,34,56])"
   ]
  },
  {
   "cell_type": "code",
   "execution_count": 44,
   "id": "c3760364",
   "metadata": {},
   "outputs": [
    {
     "data": {
      "text/plain": [
       "[12, 34, 56]"
      ]
     },
     "execution_count": 44,
     "metadata": {},
     "output_type": "execute_result"
    }
   ],
   "source": [
    "t[3]"
   ]
  },
  {
   "cell_type": "code",
   "execution_count": 45,
   "id": "dda08430",
   "metadata": {},
   "outputs": [
    {
     "data": {
      "text/plain": [
       "list"
      ]
     },
     "execution_count": 45,
     "metadata": {},
     "output_type": "execute_result"
    }
   ],
   "source": [
    "type(t[3])"
   ]
  },
  {
   "cell_type": "markdown",
   "id": "d3aa45a0",
   "metadata": {},
   "source": [
    "### 16. Variables that &quot;contain&quot; list values are not necessarily lists themselves. Instead, what do they contain?"
   ]
  },
  {
   "cell_type": "markdown",
   "id": "8a44e426",
   "metadata": {},
   "source": [
    "variables that \"contain\" list values actually contain references to the memory location where the list is stored."
   ]
  },
  {
   "cell_type": "markdown",
   "id": "43434176",
   "metadata": {},
   "source": [
    "my_list =[1,2,3]\n",
    "\n",
    "in this case, the variable my_list does not store the actual list elements (1, 2, 3), but it holds a reference to the memory location where the list is stored. It acts as a label that allows you to access and manipulate the list."
   ]
  },
  {
   "cell_type": "markdown",
   "id": "90b9da49",
   "metadata": {},
   "source": [
    "## Example"
   ]
  },
  {
   "cell_type": "code",
   "execution_count": 46,
   "id": "fbb8dab2",
   "metadata": {},
   "outputs": [],
   "source": [
    "my_list = [1,2,3]"
   ]
  },
  {
   "cell_type": "code",
   "execution_count": 47,
   "id": "860d0be5",
   "metadata": {},
   "outputs": [],
   "source": [
    "my_list2= my_list"
   ]
  },
  {
   "cell_type": "code",
   "execution_count": 48,
   "id": "2382bdfa",
   "metadata": {},
   "outputs": [],
   "source": [
    "my_list2.append('Sarvesh')"
   ]
  },
  {
   "cell_type": "code",
   "execution_count": 49,
   "id": "a6004b9c",
   "metadata": {},
   "outputs": [
    {
     "data": {
      "text/plain": [
       "[1, 2, 3, 'Sarvesh']"
      ]
     },
     "execution_count": 49,
     "metadata": {},
     "output_type": "execute_result"
    }
   ],
   "source": [
    "my_list2"
   ]
  },
  {
   "cell_type": "code",
   "execution_count": 50,
   "id": "d44927ac",
   "metadata": {},
   "outputs": [
    {
     "data": {
      "text/plain": [
       "[1, 2, 3, 'Sarvesh']"
      ]
     },
     "execution_count": 50,
     "metadata": {},
     "output_type": "execute_result"
    }
   ],
   "source": [
    "my_list"
   ]
  },
  {
   "cell_type": "markdown",
   "id": "e658dbef",
   "metadata": {},
   "source": [
    "### 17. How do you distinguish between copy.copy() and copy.deepcopy()?"
   ]
  },
  {
   "cell_type": "markdown",
   "id": "771b38c2",
   "metadata": {},
   "source": [
    "  The functions copy.copy() and copy.deepcopy() differ in their behavior when it comes to creating copies of nested objects or objects with references."
   ]
  },
  {
   "cell_type": "code",
   "execution_count": 51,
   "id": "bf58e51f",
   "metadata": {},
   "outputs": [
    {
     "name": "stdout",
     "output_type": "stream",
     "text": [
      "[10, [2, 3, 4]]\n",
      "[1, [2, 3, 4]]\n",
      "[1, [2, 3]]\n"
     ]
    }
   ],
   "source": [
    "import copy\n",
    "\n",
    "original_list = [1, [2, 3]]\n",
    "shallow_copy = copy.copy(original_list)\n",
    "deep_copy = copy.deepcopy(original_list)\n",
    "\n",
    "original_list[0] = 10\n",
    "original_list[1].append(4)\n",
    "\n",
    "print(original_list)  # Output: [10, [2, 3, 4]]\n",
    "print(shallow_copy)   # Output: [10, [2, 3, 4]]\n",
    "print(deep_copy)      # Output: [1, [2, 3]]\n"
   ]
  },
  {
   "cell_type": "code",
   "execution_count": null,
   "id": "045bc9df",
   "metadata": {},
   "outputs": [],
   "source": []
  },
  {
   "cell_type": "code",
   "execution_count": null,
   "id": "1e6d2b88",
   "metadata": {},
   "outputs": [],
   "source": []
  },
  {
   "cell_type": "markdown",
   "id": "91a77b59",
   "metadata": {},
   "source": [
    "## Done !!"
   ]
  },
  {
   "cell_type": "code",
   "execution_count": null,
   "id": "3d4f866a",
   "metadata": {},
   "outputs": [],
   "source": []
  }
 ],
 "metadata": {
  "kernelspec": {
   "display_name": "Python 3 (ipykernel)",
   "language": "python",
   "name": "python3"
  },
  "language_info": {
   "codemirror_mode": {
    "name": "ipython",
    "version": 3
   },
   "file_extension": ".py",
   "mimetype": "text/x-python",
   "name": "python",
   "nbconvert_exporter": "python",
   "pygments_lexer": "ipython3",
   "version": "3.11.2"
  }
 },
 "nbformat": 4,
 "nbformat_minor": 5
}
