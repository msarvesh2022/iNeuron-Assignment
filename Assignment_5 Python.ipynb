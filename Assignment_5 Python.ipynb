{
 "cells": [
  {
   "cell_type": "markdown",
   "id": "ea8502bb",
   "metadata": {},
   "source": [
    "### 1. What does an empty dictionary&#39;s code look like?"
   ]
  },
  {
   "cell_type": "markdown",
   "id": "d81cb379",
   "metadata": {},
   "source": [
    "In Python, an empty dictionary is represented by a pair of curly braces ({}) with no key-value pairs inside. Here I have given an example of the code for creating an empty dictionary:\n",
    "\n",
    "\n"
   ]
  },
  {
   "cell_type": "code",
   "execution_count": 14,
   "id": "72dba73c",
   "metadata": {},
   "outputs": [],
   "source": [
    "dict = {}"
   ]
  },
  {
   "cell_type": "code",
   "execution_count": 15,
   "id": "196986c9",
   "metadata": {},
   "outputs": [
    {
     "data": {
      "text/plain": [
       "{}"
      ]
     },
     "execution_count": 15,
     "metadata": {},
     "output_type": "execute_result"
    }
   ],
   "source": [
    "dict"
   ]
  },
  {
   "cell_type": "markdown",
   "id": "564fca32",
   "metadata": {},
   "source": [
    "### 2. What is the value of a dictionary value with the key &#39;foo&#39; and the value 42?"
   ]
  },
  {
   "cell_type": "code",
   "execution_count": 16,
   "id": "1bb22cc9",
   "metadata": {},
   "outputs": [],
   "source": [
    "dict1= {\"foo\":42}"
   ]
  },
  {
   "cell_type": "code",
   "execution_count": 17,
   "id": "91913a3f",
   "metadata": {},
   "outputs": [
    {
     "data": {
      "text/plain": [
       "{'foo': 42}"
      ]
     },
     "execution_count": 17,
     "metadata": {},
     "output_type": "execute_result"
    }
   ],
   "source": [
    "dict1"
   ]
  },
  {
   "cell_type": "markdown",
   "id": "f05fe893",
   "metadata": {},
   "source": [
    "### 3. What is the most significant distinction between a dictionary and a list?"
   ]
  },
  {
   "cell_type": "markdown",
   "id": "bcceceb6",
   "metadata": {},
   "source": [
    "### Solution \n",
    "\n",
    "\n",
    "1. Distinction in Structure:\n",
    "\n",
    "List: A list is an ordered collection of items that can be of any type. It maintains the order of elements based on their index, allowing duplicates and providing an index-based access mechanism.\n",
    "\n",
    "Dictionary: A dictionary is an unordered collection of key-value pairs. Each key is unique within the dictionary, and it allows fast lookup and retrieval of values based on the keys.\n",
    "\n",
    "\n",
    "2. Accessing of Elements:\n",
    "\n",
    "List: Elements in a list are accessed by their index, starting from 0. We can retrieve elements using indexing, slicing, or iterating over the list.\n",
    "\n",
    "\n",
    "Dictionary: Elements in a dictionary are accessed by their keys. We can retrieve values by specifying the corresponding key, but not by index. Dictionary keys are used as unique identifiers for efficient lookup.\n"
   ]
  },
  {
   "cell_type": "markdown",
   "id": "7effb875",
   "metadata": {},
   "source": [
    "### 4. What happens if you try to access spam[&#39;foo&#39;] if spam is {&#39;bar&#39;: 100}?"
   ]
  },
  {
   "cell_type": "markdown",
   "id": "3935c04a",
   "metadata": {},
   "source": [
    "- it will show key error , because in dictionary spam there is no key value of named \"foo\""
   ]
  },
  {
   "cell_type": "code",
   "execution_count": 18,
   "id": "eff24b9d",
   "metadata": {},
   "outputs": [],
   "source": [
    "spam = {'bar':100}"
   ]
  },
  {
   "cell_type": "code",
   "execution_count": 20,
   "id": "add988c4",
   "metadata": {},
   "outputs": [
    {
     "ename": "KeyError",
     "evalue": "'foo'",
     "output_type": "error",
     "traceback": [
      "\u001b[1;31m---------------------------------------------------------------------------\u001b[0m",
      "\u001b[1;31mKeyError\u001b[0m                                  Traceback (most recent call last)",
      "Cell \u001b[1;32mIn[20], line 1\u001b[0m\n\u001b[1;32m----> 1\u001b[0m \u001b[43mspam\u001b[49m\u001b[43m[\u001b[49m\u001b[38;5;124;43m'\u001b[39;49m\u001b[38;5;124;43mfoo\u001b[39;49m\u001b[38;5;124;43m'\u001b[39;49m\u001b[43m]\u001b[49m\n",
      "\u001b[1;31mKeyError\u001b[0m: 'foo'"
     ]
    }
   ],
   "source": [
    "spam['foo']"
   ]
  },
  {
   "cell_type": "markdown",
   "id": "41c2bee3",
   "metadata": {},
   "source": [
    "### 5. If a dictionary is stored in spam, what is the difference between the expressions &#39;cat&#39; in spam and &#39;cat&#39; in spam.keys()?"
   ]
  },
  {
   "cell_type": "markdown",
   "id": "69a53b97",
   "metadata": {},
   "source": [
    "Both expression \"cat\" in spam and \"cat\" in spam.keys() will check whether the key \"cat\" is present in the spam or not . And the out will be in boolean Value.\n",
    "\n",
    "- The practical difference between two expression lies in performance and efficiency.\n",
    "\n",
    "- Using 'cat' in spam is generally more efficient because it directly checks the presence of the key in the dictionary without creating an intermediate list of keys. If the dictionary is large, this can result in a faster lookup.\n",
    "- On the other hand, using 'cat' in spam.keys() explicitly creates a list of keys, which incurs additional memory and time overhead. It can be useful if you need to iterate over the keys or perform additional operations on the list of key"
   ]
  },
  {
   "cell_type": "markdown",
   "id": "c99e4a8e",
   "metadata": {},
   "source": [
    "### 6. If a dictionary is stored in spam, what is the difference between the expressions &#39;cat&#39; in spam and &#39;cat&#39; in spam.values()?"
   ]
  },
  {
   "cell_type": "markdown",
   "id": "44ad07af",
   "metadata": {},
   "source": [
    "The expressions 'cat' in spam and 'cat' in spam.values() are used to check for the presence of a value in a dictionary. However, there is a significant difference between the two expressions:"
   ]
  },
  {
   "cell_type": "markdown",
   "id": "dc46b880",
   "metadata": {},
   "source": [
    "- 'cat' in spam checks if the value exists in the dictionary, while 'cat' in spam.values() checks if the value exists in the list of values obtained from the dictionary. The former is generally preferred for simple value existence checks."
   ]
  },
  {
   "cell_type": "markdown",
   "id": "bae4992e",
   "metadata": {},
   "source": [
    "### 7. What is a shortcut for the following code? if &#39;color&#39; not in spam: spam[&#39;color&#39;] = &#39;black&#39;"
   ]
  },
  {
   "cell_type": "markdown",
   "id": "f563a041",
   "metadata": {},
   "source": [
    "One shortcut for the given code is to use the setdefault() method of dictionaries. The setdefault() method allows you to specify a default value for a key if the key is not already present in the dictionary. Here's how you can use it as a shortcut:"
   ]
  },
  {
   "cell_type": "code",
   "execution_count": 26,
   "id": "cfdec97b",
   "metadata": {},
   "outputs": [
    {
     "data": {
      "text/plain": [
       "{'bar': 100}"
      ]
     },
     "execution_count": 26,
     "metadata": {},
     "output_type": "execute_result"
    }
   ],
   "source": [
    "spam"
   ]
  },
  {
   "cell_type": "code",
   "execution_count": 28,
   "id": "dc68e769",
   "metadata": {},
   "outputs": [
    {
     "data": {
      "text/plain": [
       "'black'"
      ]
     },
     "execution_count": 28,
     "metadata": {},
     "output_type": "execute_result"
    }
   ],
   "source": [
    "spam.setdefault('color','black')"
   ]
  },
  {
   "cell_type": "code",
   "execution_count": 29,
   "id": "b20a734c",
   "metadata": {},
   "outputs": [
    {
     "data": {
      "text/plain": [
       "{'bar': 100, 'color': 'black'}"
      ]
     },
     "execution_count": 29,
     "metadata": {},
     "output_type": "execute_result"
    }
   ],
   "source": [
    "spam\n"
   ]
  },
  {
   "cell_type": "code",
   "execution_count": null,
   "id": "7cfaa131",
   "metadata": {},
   "outputs": [],
   "source": []
  },
  {
   "cell_type": "code",
   "execution_count": null,
   "id": "5aea6e59",
   "metadata": {},
   "outputs": [],
   "source": []
  },
  {
   "cell_type": "markdown",
   "id": "52dff473",
   "metadata": {},
   "source": [
    "## Done !!"
   ]
  },
  {
   "cell_type": "code",
   "execution_count": 35,
   "id": "f56557fb",
   "metadata": {},
   "outputs": [
    {
     "name": "stdout",
     "output_type": "stream",
     "text": [
      "######\n",
      "#####\n",
      "####\n",
      "###\n",
      "##\n",
      "#\n"
     ]
    }
   ],
   "source": [
    "a=6\n",
    "while a > 0:\n",
    "    print(\"#\"*a)\n",
    "    a-=1"
   ]
  },
  {
   "cell_type": "code",
   "execution_count": null,
   "id": "f56530ce",
   "metadata": {},
   "outputs": [],
   "source": []
  }
 ],
 "metadata": {
  "kernelspec": {
   "display_name": "Python 3 (ipykernel)",
   "language": "python",
   "name": "python3"
  },
  "language_info": {
   "codemirror_mode": {
    "name": "ipython",
    "version": 3
   },
   "file_extension": ".py",
   "mimetype": "text/x-python",
   "name": "python",
   "nbconvert_exporter": "python",
   "pygments_lexer": "ipython3",
   "version": "3.11.2"
  }
 },
 "nbformat": 4,
 "nbformat_minor": 5
}
