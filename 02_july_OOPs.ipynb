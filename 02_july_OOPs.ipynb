{
 "cells": [
  {
   "cell_type": "markdown",
   "id": "40565370",
   "metadata": {},
   "source": [
    "### 1. Explain what inheritance is in object-oriented programming and why it is used."
   ]
  },
  {
   "cell_type": "markdown",
   "id": "a336fd9c",
   "metadata": {},
   "source": [
    "Inheritance is a fundamental concept in object-oriented programming (OOP) that allows classes to inherit properties and behaviors from other classes. It enables the creation of a hierarchical relationship between classes, where a new class, called the derived class or subclass, can inherit the characteristics of an existing class, known as the base class or superclass."
   ]
  },
  {
   "cell_type": "markdown",
   "id": "3595d46a",
   "metadata": {},
   "source": [
    "#### Reason for using inheritance\n",
    "\n",
    "- Code reuse: Inheritance allows you to define common attributes and methods in a base class and reuse them in multiple derived classes. This promotes code reuse and helps in writing cleaner and more maintainable code. Instead of duplicating code across multiple classes, you can define it once in a base class and inherit it in the derived classes.\n",
    "\n",
    "\n",
    "- Modularity and extensibility: Inheritance facilitates the creation of modular and extensible code. By inheriting from a base class, you can add or modify the behavior of the derived class without modifying the existing code in the base class. This promotes a more modular design, where changes to one class do not affect other classes as long as they inherit from the appropriate base class."
   ]
  },
  {
   "cell_type": "markdown",
   "id": "5e9309cc",
   "metadata": {},
   "source": [
    "### 2. Discuss the concept of single inheritance and multiple inheritance, highlighting their differences and advantages."
   ]
  },
  {
   "cell_type": "markdown",
   "id": "65852d2d",
   "metadata": {},
   "source": [
    "#### Single Inheritance:\n",
    "- Single inheritance refers to the ability of a class to inherit from a single base class. In this approach, a derived class extends the functionality of only one base class. The derived class inherits all the attributes and behaviors of the base class and can add its own unique attributes and behaviors.\n",
    "\n",
    "#### Advantages of Single Inheritance:\n",
    "\n",
    "- Simplicity: Single inheritance provides a straightforward and simple class hierarchy. Each class has a clear parent-child relationship, making it easier to understand and maintain the code.\n",
    "\n",
    "\n",
    "#### Multiple Inheritance:\n",
    "\n",
    "- Multiple inheritance allows a class to inherit from more than one base class. In this approach, a derived class can inherit attributes and behaviors from multiple base classes, combining their functionalities. This allows for more complex class relationships and the ability to reuse code from multiple sources.\n",
    "\n",
    "#### Advantages of Multiple Inheritance:\n",
    "\n",
    "- Code reuse: Multiple inheritance enables the reuse of code from multiple base classes. This can be beneficial when different classes provide distinct functionalities that need to be combined in a derived class."
   ]
  },
  {
   "cell_type": "markdown",
   "id": "5633faef",
   "metadata": {},
   "source": [
    "### 3. Explain the terms \"base class\" and \"derived class\" in the context of inheritance."
   ]
  },
  {
   "cell_type": "markdown",
   "id": "b61a8866",
   "metadata": {},
   "source": [
    "#### Base class \n",
    "\n",
    "A base class, also known as a superclass or parent class, is the class that serves as the foundation for other classes. It defines common attributes, behaviors, and methods that can be inherited by other classes. The base class provides a template or blueprint from which the derived classes can inherit and extend functionality.\n",
    "\n",
    "#### Derived Class:\n",
    "\n",
    "A derived class, also known as a subclass or child class, is a class that inherits properties and behaviors from a base class. The derived class extends or specializes the functionality of the base class by adding its unique attributes and behaviors or by overriding existing ones. It maintains the characteristics of the base class while introducing its specific features."
   ]
  },
  {
   "cell_type": "markdown",
   "id": "0716c8d0",
   "metadata": {},
   "source": [
    "### 4. What is the significance of the \"protected\" access modifier in inheritance? How does it differ from \"private\" and \"public\" modifiers?"
   ]
  },
  {
   "cell_type": "markdown",
   "id": "2264965e",
   "metadata": {},
   "source": [
    "Protected Access Modifier:\n",
    "The \"protected\" modifier allows the member to be accessed within the same class, derived classes (subclasses), and even within the same package. It provides a level of visibility that is broader than \"private\" but more restricted than \"public.\" Protected members can be inherited by subclasses and used as if they were declared in the subclass itself. They allow subclasses to access and modify inherited members while preventing direct access from other unrelated classes."
   ]
  },
  {
   "cell_type": "markdown",
   "id": "52e0387a",
   "metadata": {},
   "source": [
    "the \"protected\" access modifier in inheritance serves as an intermediate level of visibility between \"private\" and \"public.\" It allows subclass inheritance and access to inherited members while preventing direct access from unrelated classes. This encapsulation and controlled access help maintain data integrity, code organization, and facilitate code reuse in object-oriented programming."
   ]
  },
  {
   "cell_type": "markdown",
   "id": "716acbc5",
   "metadata": {},
   "source": [
    "### 5. What is the purpose of the \"super\" keyword in inheritance? Provide an example."
   ]
  },
  {
   "cell_type": "markdown",
   "id": "06219824",
   "metadata": {},
   "source": [
    "In Python, the super keyword is used to refer to the superclass or parent class in a class hierarchy. It allows you to call methods and access attributes defined in the superclass from a subclass. The super keyword is especially useful when you want to override a method in the subclass while still maintaining the functionality of the superclass's implementation."
   ]
  },
  {
   "cell_type": "code",
   "execution_count": 1,
   "id": "6cba6354",
   "metadata": {},
   "outputs": [],
   "source": [
    "class vehicle:\n",
    "    def __init__(self,name,brand):\n",
    "        self.name= name\n",
    "        self.brand=brand\n",
    "        \n",
    "    def display(self):\n",
    "        print(f\"name of the vehicle is {self.name} and brand is {self.brand}\")\n",
    "    "
   ]
  },
  {
   "cell_type": "code",
   "execution_count": 5,
   "id": "188120ad",
   "metadata": {},
   "outputs": [],
   "source": [
    "class car(vehicle):\n",
    "    def __init__(self,name,brand,model):\n",
    "        super().__init__(name,brand)\n",
    "        self.model= model\n",
    "        \n",
    "    def display(self):\n",
    "        super().display()\n",
    "        print(f\"model is {self.model}\")"
   ]
  },
  {
   "cell_type": "code",
   "execution_count": 6,
   "id": "2753fe82",
   "metadata": {},
   "outputs": [],
   "source": [
    "car1 = car('BMW','S4','EV')"
   ]
  },
  {
   "cell_type": "code",
   "execution_count": 7,
   "id": "4658eed8",
   "metadata": {},
   "outputs": [
    {
     "name": "stdout",
     "output_type": "stream",
     "text": [
      "name of the vehicle is BMW and brand is S4\n",
      "model is EV\n"
     ]
    }
   ],
   "source": [
    "car1.display()"
   ]
  },
  {
   "cell_type": "markdown",
   "id": "1e6118a0",
   "metadata": {},
   "source": [
    "### 6. Create a base class called \"Vehicle\" with attributes like \"make\", \"model\", and \"year\". Then, create a derived class called \"Car\" that inherits from \"Vehicle\" and adds an  attribute called \"fuel_type\". Implement appropriate methods in both classes."
   ]
  },
  {
   "cell_type": "code",
   "execution_count": 9,
   "id": "cc59351b",
   "metadata": {},
   "outputs": [],
   "source": [
    "class Vehicle:\n",
    "    def __init__(self,make,model,year):\n",
    "        self.make=make\n",
    "        self.model=model\n",
    "        self.year=year\n",
    "        \n",
    "    def info(self):\n",
    "        print(f'model of vehicle is {self.model} founded in {self.year}')"
   ]
  },
  {
   "cell_type": "code",
   "execution_count": 13,
   "id": "464e717f",
   "metadata": {},
   "outputs": [],
   "source": [
    "class Car(Vehicle):\n",
    "    def __init__(self,make,model,year,fuel_type):\n",
    "        super().__init__(make,model,year)\n",
    "        self.fuel_type=fuel_type\n",
    "        \n",
    "    def info(self):\n",
    "        super().info()\n",
    "        print(f'{self.model} run on {self.fuel_type}')"
   ]
  },
  {
   "cell_type": "code",
   "execution_count": 14,
   "id": "e91f0fd1",
   "metadata": {},
   "outputs": [],
   "source": [
    "car2= Car('Horizon','BMW',2010,'Petrol')"
   ]
  },
  {
   "cell_type": "code",
   "execution_count": 15,
   "id": "6a424851",
   "metadata": {},
   "outputs": [
    {
     "name": "stdout",
     "output_type": "stream",
     "text": [
      "model of vehicle is BMW founded in 2010\n",
      "BMW run on Petrol\n"
     ]
    }
   ],
   "source": [
    "car2.info()"
   ]
  },
  {
   "cell_type": "markdown",
   "id": "1e5f1c0f",
   "metadata": {},
   "source": [
    "### 7 Create a base class called \"Employee\" with attributes like \"name\" and \"salary.\"\n",
    "- Derive two classes, \"Manager\" and \"Developer,\" from \"Employee.\" Add an additional attribute called \"department\" for the \"Manager\" class and \"programming_language\" for the \"Developer\" class."
   ]
  },
  {
   "cell_type": "code",
   "execution_count": 16,
   "id": "315d09a4",
   "metadata": {},
   "outputs": [],
   "source": [
    "class Employee:\n",
    "    def __init__(self, name, salary):\n",
    "        self.name = name\n",
    "        self.salary = salary\n",
    "\n",
    "\n",
    "class Manager(Employee):\n",
    "    def __init__(self, name, salary, department):\n",
    "        super().__init__(name, salary)\n",
    "        self.department = department\n",
    "\n",
    "\n",
    "class Developer(Employee):\n",
    "    def __init__(self, name, salary, programming_language):\n",
    "        super().__init__(name, salary)\n",
    "        self.programming_language = programming_language\n",
    "\n",
    "        \n",
    "        \n",
    "        "
   ]
  },
  {
   "cell_type": "code",
   "execution_count": 17,
   "id": "8fc4dd71",
   "metadata": {},
   "outputs": [],
   "source": [
    "m1= Manager('Sarvesh','100k','Data Science')"
   ]
  },
  {
   "cell_type": "code",
   "execution_count": 18,
   "id": "a704a1ee",
   "metadata": {},
   "outputs": [
    {
     "data": {
      "text/plain": [
       "'Sarvesh'"
      ]
     },
     "execution_count": 18,
     "metadata": {},
     "output_type": "execute_result"
    }
   ],
   "source": [
    "m1.name"
   ]
  },
  {
   "cell_type": "code",
   "execution_count": 20,
   "id": "485e3efd",
   "metadata": {},
   "outputs": [
    {
     "data": {
      "text/plain": [
       "'100k'"
      ]
     },
     "execution_count": 20,
     "metadata": {},
     "output_type": "execute_result"
    }
   ],
   "source": [
    "m1.salary"
   ]
  },
  {
   "cell_type": "markdown",
   "id": "0a0b6398",
   "metadata": {},
   "source": [
    "### 8. Design a base class called \"Shape\" with attributes like \"colour\" and \"border_width.\" Create derived classes, \"Rectangle\" and \"Circle,\" that inherit from \"Shape\" and add specific attributes like \"length\" and \"width\" for the \"Rectangle\" class and \"radius\" for the \"Circle\" class."
   ]
  },
  {
   "cell_type": "code",
   "execution_count": 21,
   "id": "26a5c57b",
   "metadata": {},
   "outputs": [],
   "source": [
    "class Shape:\n",
    "    def __init__(self, colour, border_width):\n",
    "        self.colour = colour\n",
    "        self.border_width = border_width\n",
    "\n",
    "\n",
    "class Rectangle(Shape):\n",
    "    def __init__(self, colour, border_width, length, width):\n",
    "        super().__init__(colour, border_width)\n",
    "        self.length = length\n",
    "        self.width = width\n",
    "\n",
    "\n",
    "class Circle(Shape):\n",
    "    def __init__(self, colour, border_width, radius):\n",
    "        super().__init__(colour, border_width)\n",
    "        self.radius = radius\n"
   ]
  },
  {
   "cell_type": "code",
   "execution_count": 22,
   "id": "6844d350",
   "metadata": {},
   "outputs": [],
   "source": [
    "# object of circle\n",
    "c1= Circle('yellow',3.4,8.9)"
   ]
  },
  {
   "cell_type": "code",
   "execution_count": 23,
   "id": "de601a2d",
   "metadata": {},
   "outputs": [
    {
     "data": {
      "text/plain": [
       "3.4"
      ]
     },
     "execution_count": 23,
     "metadata": {},
     "output_type": "execute_result"
    }
   ],
   "source": [
    "c1.border_width"
   ]
  },
  {
   "cell_type": "code",
   "execution_count": 26,
   "id": "65ea3e41",
   "metadata": {},
   "outputs": [],
   "source": [
    "# object of Rectangle\n",
    "r1 = Rectangle('Red',2,3,4)"
   ]
  },
  {
   "cell_type": "code",
   "execution_count": 27,
   "id": "fecc73b8",
   "metadata": {},
   "outputs": [
    {
     "data": {
      "text/plain": [
       "'Red'"
      ]
     },
     "execution_count": 27,
     "metadata": {},
     "output_type": "execute_result"
    }
   ],
   "source": [
    "r1.colour"
   ]
  },
  {
   "cell_type": "markdown",
   "id": "06c98a69",
   "metadata": {},
   "source": [
    "### 9. Create a base class called \"Device\" with attributes like \"brand\" and \"model.\" Derive two classes, \"Phone\" and \"Tablet,\" from \"Device.\" Add specific attributes like \"screen_size\" for the \"Phone\" class and \"battery_capacity\" for the \"Tablet\" class."
   ]
  },
  {
   "cell_type": "code",
   "execution_count": 28,
   "id": "45df6d99",
   "metadata": {},
   "outputs": [],
   "source": [
    "class Device:\n",
    "    def __init__(self, brand, model):\n",
    "        self.brand = brand\n",
    "        self.model = model\n",
    "\n",
    "\n",
    "class Phone(Device):\n",
    "    def __init__(self, brand, model, screen_size):\n",
    "        super().__init__(brand, model)\n",
    "        self.screen_size = screen_size\n",
    "\n",
    "\n",
    "class Tablet(Device):\n",
    "    def __init__(self, brand, model, battery_capacity):\n",
    "        super().__init__(brand, model)\n",
    "        self.battery_capacity = battery_capacity\n"
   ]
  },
  {
   "cell_type": "markdown",
   "id": "a21d11dd",
   "metadata": {},
   "source": [
    "### 10. Create a base class called \"BankAccount\" with attributes like \"account_number\" and \"balance.\" Derive two classes, \"SavingsAccount\" and \"CheckingAccount,\" from \"BankAccount.\" Add specific methods like \"calculate_interest\" for the \"SavingsAccount\" class and \"deduct_fees\" for the \"CheckingAccount\" class."
   ]
  },
  {
   "cell_type": "code",
   "execution_count": 40,
   "id": "a28e90e2",
   "metadata": {},
   "outputs": [],
   "source": [
    "class BankAccount:\n",
    "    def __init__(self, account_number, balance):\n",
    "        self.account_number = account_number\n",
    "        self.balance = balance\n",
    "\n",
    "\n",
    "class SavingsAccount(BankAccount):\n",
    "    def __init__(self, account_number, balance):\n",
    "        super().__init__(account_number, balance)\n",
    "\n",
    "    def calculate_interest(self, rate):\n",
    "        interest = self.balance * rate\n",
    "        self.balance += interest\n",
    "        print(f\"Account number - {self.account_number} have {self.balance} in the account\")\n",
    "\n",
    "class CheckingAccount(BankAccount):\n",
    "    def __init__(self, account_number, balance):\n",
    "        super().__init__(account_number, balance)\n",
    "\n",
    "    def deduct_fees(self, fee):\n",
    "        self.balance -= fee\n",
    "        return f\"Account number - {self.account_number} have {self.balance} in the account after deduction\"\n"
   ]
  },
  {
   "cell_type": "code",
   "execution_count": 41,
   "id": "13d94da4",
   "metadata": {},
   "outputs": [],
   "source": [
    "saving1= SavingsAccount(2343,1000)"
   ]
  },
  {
   "cell_type": "code",
   "execution_count": 42,
   "id": "d1784ff6",
   "metadata": {},
   "outputs": [
    {
     "name": "stdout",
     "output_type": "stream",
     "text": [
      "Account number - 2343 have 11000 in the account\n"
     ]
    }
   ],
   "source": [
    "saving1.calculate_interest(10)"
   ]
  },
  {
   "cell_type": "code",
   "execution_count": 43,
   "id": "7e14cdfb",
   "metadata": {},
   "outputs": [],
   "source": [
    "check_1= CheckingAccount(4565,10000)"
   ]
  },
  {
   "cell_type": "code",
   "execution_count": 44,
   "id": "15d12d53",
   "metadata": {},
   "outputs": [
    {
     "data": {
      "text/plain": [
       "'Account number - 4565 have 9980 in the account after deduction'"
      ]
     },
     "execution_count": 44,
     "metadata": {},
     "output_type": "execute_result"
    }
   ],
   "source": [
    "check_1.deduct_fees(20)"
   ]
  },
  {
   "cell_type": "code",
   "execution_count": null,
   "id": "e0fc0a10",
   "metadata": {},
   "outputs": [],
   "source": []
  },
  {
   "cell_type": "code",
   "execution_count": null,
   "id": "5f104b61",
   "metadata": {},
   "outputs": [],
   "source": []
  },
  {
   "cell_type": "markdown",
   "id": "be46ab8e",
   "metadata": {},
   "source": [
    "## Done !!\n"
   ]
  },
  {
   "cell_type": "code",
   "execution_count": null,
   "id": "cef63764",
   "metadata": {},
   "outputs": [],
   "source": []
  }
 ],
 "metadata": {
  "kernelspec": {
   "display_name": "Python 3 (ipykernel)",
   "language": "python",
   "name": "python3"
  },
  "language_info": {
   "codemirror_mode": {
    "name": "ipython",
    "version": 3
   },
   "file_extension": ".py",
   "mimetype": "text/x-python",
   "name": "python",
   "nbconvert_exporter": "python",
   "pygments_lexer": "ipython3",
   "version": "3.10.9"
  }
 },
 "nbformat": 4,
 "nbformat_minor": 5
}
