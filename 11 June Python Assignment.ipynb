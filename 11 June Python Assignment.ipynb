{
 "cells": [
  {
   "cell_type": "markdown",
   "id": "8a675b17",
   "metadata": {},
   "source": [
    "### 1. What is a lambda function in Python, and how does it differ from a regular function?"
   ]
  },
  {
   "cell_type": "markdown",
   "id": "76b5dcc3",
   "metadata": {},
   "source": [
    "In Python, a lambda function is a small anonymous function that can be defined inline without a proper function definition. It is also known as an \"anonymous function\" because it doesn't have a name like a regular function.\n",
    "\n",
    "The syntax for creating a lambda function is:\n",
    "\n",
    "lambda arguments : expression"
   ]
  },
  {
   "cell_type": "markdown",
   "id": "c4a5b2bf",
   "metadata": {},
   "source": [
    "The main differences between a lambda function and a regular function in Python are:\n",
    "\n",
    "- Syntax: Lambda functions are defined using the lambda keyword and don't have a separate def statement or a function name. Regular functions, on the other hand, are defined using the def keyword, followed by the function name.\n",
    "\n",
    "- Function Name: Lambda functions are anonymous and don't have a name. Regular functions have a name, which is used to call them.\n",
    "\n",
    "- Size and Complexity: Lambda functions are typically used for small and simple operations, as they are limited to a single expression. Regular functions can be more complex and can contain multiple statements and blocks of code."
   ]
  },
  {
   "cell_type": "markdown",
   "id": "0b06184e",
   "metadata": {},
   "source": [
    "### 2. Can a lambda function in Python have multiple arguments? If yes, how can you define and use them?"
   ]
  },
  {
   "cell_type": "markdown",
   "id": "6ff0861f",
   "metadata": {},
   "source": [
    "Yes, a lambda function in Python can have multiple arguments. You can define and use multiple arguments in a lambda function by separating them with commas in the argument list.\n",
    "\n",
    "Here's an example of a lambda function with multiple arguments:"
   ]
  },
  {
   "cell_type": "code",
   "execution_count": 1,
   "id": "6062f73d",
   "metadata": {},
   "outputs": [],
   "source": [
    "multiply = lambda x, y: x * y\n"
   ]
  },
  {
   "cell_type": "code",
   "execution_count": 2,
   "id": "a7792fe2",
   "metadata": {},
   "outputs": [
    {
     "data": {
      "text/plain": [
       "10"
      ]
     },
     "execution_count": 2,
     "metadata": {},
     "output_type": "execute_result"
    }
   ],
   "source": [
    "multiply(2,5)"
   ]
  },
  {
   "cell_type": "markdown",
   "id": "22cae04e",
   "metadata": {},
   "source": [
    "### 3. How are lambda functions typically used in Python? Provide an example use case."
   ]
  },
  {
   "cell_type": "markdown",
   "id": "0a366c1a",
   "metadata": {},
   "source": [
    "Lambda functions in Python are commonly used in situations where a small, anonymous function is required for a short-lived operation. They are often used in conjunction with built-in functions such as map(), filter(), and reduce(), which accept functions as arguments."
   ]
  },
  {
   "cell_type": "code",
   "execution_count": 3,
   "id": "2da32e6e",
   "metadata": {},
   "outputs": [
    {
     "name": "stdout",
     "output_type": "stream",
     "text": [
      "[1, 4, 9, 16, 25]\n"
     ]
    }
   ],
   "source": [
    "# in mapping\n",
    "\n",
    "numbers = [1, 2, 3, 4, 5]\n",
    "squared = map(lambda x: x**2, numbers)\n",
    "print(list(squared))  # Output: [1, 4, 9, 16, 25]\n"
   ]
  },
  {
   "cell_type": "code",
   "execution_count": 5,
   "id": "fb522fa9",
   "metadata": {},
   "outputs": [
    {
     "name": "stdout",
     "output_type": "stream",
     "text": [
      "[2, 4]\n"
     ]
    }
   ],
   "source": [
    "#in filter\n",
    "\n",
    "numbers = [1, 2, 3, 4, 5]\n",
    "even_numbers = filter(lambda x: x % 2 == 0, numbers)\n",
    "print(list(even_numbers))  # Output: [2, 4]\n"
   ]
  },
  {
   "cell_type": "markdown",
   "id": "02f75998",
   "metadata": {},
   "source": [
    "### 4 . What are the advantages and limitations of lambda functions compared to regular functions in Python?"
   ]
  },
  {
   "cell_type": "markdown",
   "id": "aef72a34",
   "metadata": {},
   "source": [
    "### Advantages of Lambda Functions:\n",
    "\n",
    "Concise and Readable Code: Lambda functions allow you to express simple functionality in a compact and readable manner. They are particularly useful when the function logic is straightforward and doesn't require a full function definition.\n",
    "\n",
    "Inline Usage: Lambda functions are often used inline with other functions or methods, especially with built-in functions like map(), filter(), and reduce(). This inline usage helps in reducing the overall code complexity and increases code readability.\n",
    "\n",
    "Avoiding Naming Conflicts: Since lambda functions are anonymous and don't require a separate function name, they help avoid naming conflicts with existing functions in your codebase. They can be defined on-the-fly for specific use cases without worrying about naming clashes.\n",
    "\n",
    "### Limitations of Lambda Functions:\n",
    "\n",
    "Limited Functionality: Lambda functions are limited to a single expression and cannot contain statements or multiple lines of code. This limitation makes them unsuitable for complex logic or functions requiring multiple operations.\n",
    "\n",
    "No Docstrings or Annotations: Lambda functions don't support docstrings or type annotations. Regular functions allow you to provide descriptive documentation and specify the types of arguments and return values, which is helpful for code clarity, readability, and maintaining codebases.\n",
    "\n",
    "Reduced Reusability: Lambda functions are typically used for one-time, specific purposes. They lack the reusability and modularity provided by regular functions, which can be defined and called multiple times throughout your code.\n",
    "\n",
    "Limited Debugging: When debugging code, lambda functions can be less helpful compared to regular functions. Since lambda functions are anonymous and lack explicit names, it can be challenging to identify them in error messages or stack traces.\n",
    "\n",
    "In summary, lambda functions offer simplicity and brevity for small, one-time operations, but they have limitations in terms of functionality, reusability, and debugging capabilities compared to regular functions. Choosing between lambda functions and regular functions depends on the specific requirements of your code and the complexity of the logic you need to implement.\n",
    "\n",
    "\n",
    "\n",
    "\n",
    "\n",
    "\n"
   ]
  },
  {
   "cell_type": "markdown",
   "id": "e4533506",
   "metadata": {},
   "source": [
    "### 5. Are lambda functions in Python able to access variables defined outside of their own scope? Explain with an example."
   ]
  },
  {
   "cell_type": "markdown",
   "id": "41e8fad6",
   "metadata": {},
   "source": [
    "Yes, lambda functions in Python can access variables defined outside of their own scope. They have access to the variables from the surrounding scope where they are created. This is known as \"lexical scoping\" or \"closure.\"\n",
    "\n",
    "Here's an example to demonstrate how lambda functions can access variables from the outer scope:"
   ]
  },
  {
   "cell_type": "code",
   "execution_count": 7,
   "id": "7076e4a7",
   "metadata": {},
   "outputs": [
    {
     "name": "stdout",
     "output_type": "stream",
     "text": [
      "15\n"
     ]
    }
   ],
   "source": [
    "# example\n",
    "\n",
    "def outer_function():\n",
    "    x = 10\n",
    "    lambda_function = lambda y: x + y\n",
    "    return lambda_function\n",
    "\n",
    "lambda_func = outer_function()\n",
    "result = lambda_func(5)\n",
    "print(result)  # Output: 15\n"
   ]
  },
  {
   "cell_type": "markdown",
   "id": "88218d21",
   "metadata": {},
   "source": [
    "### 6. Write a lambda function to calculate the square of a given number."
   ]
  },
  {
   "cell_type": "code",
   "execution_count": 8,
   "id": "93013134",
   "metadata": {},
   "outputs": [],
   "source": [
    "square = lambda x: x**2"
   ]
  },
  {
   "cell_type": "code",
   "execution_count": 9,
   "id": "cd83dcb4",
   "metadata": {},
   "outputs": [
    {
     "data": {
      "text/plain": [
       "4"
      ]
     },
     "execution_count": 9,
     "metadata": {},
     "output_type": "execute_result"
    }
   ],
   "source": [
    "square(2)"
   ]
  },
  {
   "cell_type": "code",
   "execution_count": 10,
   "id": "914e607c",
   "metadata": {},
   "outputs": [
    {
     "data": {
      "text/plain": [
       "49"
      ]
     },
     "execution_count": 10,
     "metadata": {},
     "output_type": "execute_result"
    }
   ],
   "source": [
    "square(7)"
   ]
  },
  {
   "cell_type": "markdown",
   "id": "9b69590d",
   "metadata": {},
   "source": [
    "### 7. Create a lambda function to find the maximum value in a list of integers."
   ]
  },
  {
   "cell_type": "code",
   "execution_count": 17,
   "id": "4ebac5ac",
   "metadata": {},
   "outputs": [],
   "source": [
    "l= [1,2,3,10,34,20,45]"
   ]
  },
  {
   "cell_type": "code",
   "execution_count": 18,
   "id": "776b95a8",
   "metadata": {},
   "outputs": [],
   "source": [
    "find_max= lambda x: max(x)"
   ]
  },
  {
   "cell_type": "code",
   "execution_count": 19,
   "id": "3f2441d9",
   "metadata": {},
   "outputs": [
    {
     "data": {
      "text/plain": [
       "45"
      ]
     },
     "execution_count": 19,
     "metadata": {},
     "output_type": "execute_result"
    }
   ],
   "source": [
    "y(l)"
   ]
  },
  {
   "cell_type": "markdown",
   "id": "8e5fcb5f",
   "metadata": {},
   "source": [
    "### 8. Implement a lambda function to filter out all the even numbers from a list of integers."
   ]
  },
  {
   "cell_type": "code",
   "execution_count": 29,
   "id": "0636d15f",
   "metadata": {},
   "outputs": [
    {
     "name": "stdout",
     "output_type": "stream",
     "text": [
      "[2, 4, 6, 8, 10]\n"
     ]
    }
   ],
   "source": [
    "numbers = [1, 2, 3, 4, 5, 6, 7, 8, 9, 10]\n",
    "even_numbers = list(filter(lambda x: x % 2 == 0, numbers))\n",
    "print(even_numbers)\n"
   ]
  },
  {
   "cell_type": "markdown",
   "id": "9e101260",
   "metadata": {},
   "source": [
    "### 9. Write a lambda function to sort a list of strings in ascending order based on the length of each string."
   ]
  },
  {
   "cell_type": "code",
   "execution_count": 30,
   "id": "88e6f88a",
   "metadata": {},
   "outputs": [
    {
     "name": "stdout",
     "output_type": "stream",
     "text": [
      "['date', 'apple', 'banana', 'cherry', 'elderberry']\n"
     ]
    }
   ],
   "source": [
    "strings = [\"apple\", \"banana\", \"cherry\", \"date\", \"elderberry\"]\n",
    "sorted_strings = sorted(strings, key=lambda x: len(x))\n",
    "print(sorted_strings)\n"
   ]
  },
  {
   "cell_type": "markdown",
   "id": "c5858f46",
   "metadata": {},
   "source": [
    "### 10. Create a lambda function that takes two lists as input and returns a new list containing the common elements between the two lists."
   ]
  },
  {
   "cell_type": "code",
   "execution_count": 31,
   "id": "0be45688",
   "metadata": {},
   "outputs": [
    {
     "name": "stdout",
     "output_type": "stream",
     "text": [
      "[4, 5]\n"
     ]
    }
   ],
   "source": [
    "list1 = [1, 2, 3, 4, 5]\n",
    "list2 = [4, 5, 6, 7, 8]\n",
    "\n",
    "common_elements = list(filter(lambda x: x in list1, list2))\n",
    "print(common_elements)\n"
   ]
  },
  {
   "cell_type": "markdown",
   "id": "837a6a19",
   "metadata": {},
   "source": [
    "### 11. Write a recursive function to calculate the factorial of a given positive integer."
   ]
  },
  {
   "cell_type": "code",
   "execution_count": 32,
   "id": "7a9850bc",
   "metadata": {},
   "outputs": [
    {
     "name": "stdout",
     "output_type": "stream",
     "text": [
      "The factorial of 5 is: 120\n"
     ]
    }
   ],
   "source": [
    "def factorial(n):\n",
    "    if n == 0 or n == 1:\n",
    "        return 1\n",
    "    else:\n",
    "        return n * factorial(n - 1)\n",
    "\n",
    "# Testing the factorial function\n",
    "num = 5\n",
    "result = factorial(num)\n",
    "print(f\"The factorial of {num} is: {result}\")\n"
   ]
  },
  {
   "cell_type": "markdown",
   "id": "27330dbf",
   "metadata": {},
   "source": [
    "### 12. Implement a recursive function to compute the nth Fibonacci number."
   ]
  },
  {
   "cell_type": "code",
   "execution_count": 39,
   "id": "21339e70",
   "metadata": {},
   "outputs": [
    {
     "name": "stdout",
     "output_type": "stream",
     "text": [
      "The 4th Fibonacci number is: 3\n"
     ]
    }
   ],
   "source": [
    "def fibonacci(n):\n",
    "    if n <= 0:\n",
    "        raise ValueError(\"n must be a positive integer.\")\n",
    "    elif n == 1 or n == 2:\n",
    "        return 1\n",
    "    else:\n",
    "        return fibonacci(n - 1) + fibonacci(n - 2)\n",
    "\n",
    "# Testing the fibonacci function\n",
    "num = 4\n",
    "result = fibonacci(num)\n",
    "print(f\"The {num}th Fibonacci number is: {result}\")\n"
   ]
  },
  {
   "cell_type": "markdown",
   "id": "2456710c",
   "metadata": {},
   "source": [
    "### 13. Create a recursive function to find the sum of all the elements in a given list."
   ]
  },
  {
   "cell_type": "code",
   "execution_count": 50,
   "id": "7a09d050",
   "metadata": {},
   "outputs": [
    {
     "name": "stdout",
     "output_type": "stream",
     "text": [
      "The sum of the elements in the list is: 15\n"
     ]
    }
   ],
   "source": [
    "def recursive_sum(lst):\n",
    "    if len(lst) == 0:\n",
    "        return 0\n",
    "    else:\n",
    "        return lst[0] + recursive_sum(lst[1:])\n",
    "\n",
    "# Testing the recursive_sum function\n",
    "numbers = [1, 2, 3, 4, 5]\n",
    "result = recursive_sum(numbers)\n",
    "print(f\"The sum of the elements in the list is: {result}\")\n"
   ]
  },
  {
   "cell_type": "markdown",
   "id": "2a9924d4",
   "metadata": {},
   "source": [
    "### 14. Write a recursive function to determine whether a given string is a palindrome."
   ]
  },
  {
   "cell_type": "code",
   "execution_count": 72,
   "id": "a2ee6616",
   "metadata": {},
   "outputs": [],
   "source": [
    "def pal(string):\n",
    "    if string ==string[::-1].capitalize():\n",
    "        print('Given string is palindrome')\n",
    "    else:\n",
    "        print('Not palindrome')"
   ]
  },
  {
   "cell_type": "code",
   "execution_count": 79,
   "id": "01dc1a56",
   "metadata": {},
   "outputs": [
    {
     "name": "stdout",
     "output_type": "stream",
     "text": [
      "Not palindrome\n"
     ]
    }
   ],
   "source": [
    "pal('Sarvesh')"
   ]
  },
  {
   "cell_type": "code",
   "execution_count": 80,
   "id": "2686dce1",
   "metadata": {},
   "outputs": [
    {
     "name": "stdout",
     "output_type": "stream",
     "text": [
      "Given string is palindrome\n"
     ]
    }
   ],
   "source": [
    "pal('Saas')"
   ]
  },
  {
   "cell_type": "code",
   "execution_count": null,
   "id": "5471959e",
   "metadata": {},
   "outputs": [],
   "source": []
  },
  {
   "cell_type": "code",
   "execution_count": 81,
   "id": "20d38523",
   "metadata": {},
   "outputs": [
    {
     "name": "stdout",
     "output_type": "stream",
     "text": [
      "The GCD of 36 and 48 is: 12\n"
     ]
    }
   ],
   "source": [
    "def gcd(a, b):\n",
    "    if b == 0:\n",
    "        return a\n",
    "    else:\n",
    "        return gcd(b, a % b)\n",
    "\n",
    "# Testing the gcd function\n",
    "num1 = 36\n",
    "num2 = 48\n",
    "result = gcd(num1, num2)\n",
    "print(f\"The GCD of {num1} and {num2} is: {result}\")\n"
   ]
  },
  {
   "cell_type": "code",
   "execution_count": null,
   "id": "e0dcce65",
   "metadata": {},
   "outputs": [],
   "source": []
  }
 ],
 "metadata": {
  "kernelspec": {
   "display_name": "Python 3 (ipykernel)",
   "language": "python",
   "name": "python3"
  },
  "language_info": {
   "codemirror_mode": {
    "name": "ipython",
    "version": 3
   },
   "file_extension": ".py",
   "mimetype": "text/x-python",
   "name": "python",
   "nbconvert_exporter": "python",
   "pygments_lexer": "ipython3",
   "version": "3.10.9"
  }
 },
 "nbformat": 4,
 "nbformat_minor": 5
}
