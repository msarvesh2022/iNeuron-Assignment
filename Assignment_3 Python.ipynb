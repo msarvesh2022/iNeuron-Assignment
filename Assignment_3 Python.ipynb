{
 "cells": [
  {
   "cell_type": "markdown",
   "id": "43ce7044",
   "metadata": {},
   "source": [
    "### 1. Why are functions advantageous to have in your programs?"
   ]
  },
  {
   "cell_type": "markdown",
   "id": "45bbf038",
   "metadata": {},
   "source": [
    "Solution\n",
    "\n",
    "Functions allow us to encapsulate a specific piece of code that performs a particular task. By defining functions, we can reuse the same block of code multiple times in different parts of our program without duplicating the code. This not only saves time and effort but also improves the maintainability of our code."
   ]
  },
  {
   "cell_type": "markdown",
   "id": "4ad15228",
   "metadata": {},
   "source": [
    "### 2. When does the code in a function run: when it&#39;s specified or when it&#39;s called?"
   ]
  },
  {
   "cell_type": "markdown",
   "id": "2d8cfd12",
   "metadata": {},
   "source": [
    "after calling the function the block code inside the function start executing.\n",
    "\n",
    "When you define a function in Python, you are essentially creating a reusable block of code that specifies what the function should do when called. However, the actual execution of the code within the function occurs only when the function is called or invoked."
   ]
  },
  {
   "cell_type": "markdown",
   "id": "6d88e26c",
   "metadata": {},
   "source": [
    "### 3. What statement creates a function?"
   ]
  },
  {
   "cell_type": "markdown",
   "id": "25883157",
   "metadata": {},
   "source": [
    "In Python, the def statement is used to create a function. The def statement is followed by the function name, parentheses for optional parameters, and a colon. The body of the function is indented below the def statement and contains the code that defines the function's behavior.\n",
    "\n",
    "So basically three thigs required for creating a function\n",
    "1. def statement\n",
    "2. function name\n",
    "3. parameters in parathesis\n",
    "4. body code"
   ]
  },
  {
   "cell_type": "code",
   "execution_count": 4,
   "id": "ebb42f85",
   "metadata": {},
   "outputs": [],
   "source": [
    "def function_name(parameters):\n",
    "    pass"
   ]
  },
  {
   "cell_type": "markdown",
   "id": "6e807cb4",
   "metadata": {},
   "source": [
    "### 4. What is the difference between a function and a function call?"
   ]
  },
  {
   "cell_type": "markdown",
   "id": "35360577",
   "metadata": {},
   "source": [
    "Solution-\n",
    "\n",
    "A function is a reusable block of code that is defined with a specific name and may take input parameters. It encapsulates a set of instructions or operations that can be executed when the function is called.\n",
    "\n",
    "And a function call is an action that triggers the execution of a function. It involves using the function's name followed by parentheses, optionally passing values (arguments) to the function's parameters. When a function is called, the program jumps to the function's code, executes it, and then returns to the point where the function call was made."
   ]
  },
  {
   "cell_type": "markdown",
   "id": "31f1b47f",
   "metadata": {},
   "source": [
    "### 5. How many global scopes are there in a Python program? How many local scopes?"
   ]
  },
  {
   "cell_type": "markdown",
   "id": "115ad61d",
   "metadata": {},
   "source": [
    "In a Python program, there is only one global scope, and it remains the same throughout the program. It is the outermost scope that encompasses the entire program.\n",
    "\n",
    "On the other hand, the number of local scopes in a Python program can vary depending on the number of functions or code blocks that define local variables. Each function or code block that defines variables creates its own local scope."
   ]
  },
  {
   "cell_type": "markdown",
   "id": "23e4e138",
   "metadata": {},
   "source": [
    "the meaning of global scopes is that is can be accessed from anywhere within the program or inside the  function."
   ]
  },
  {
   "cell_type": "markdown",
   "id": "3c2fef8b",
   "metadata": {},
   "source": [
    "#### example by code"
   ]
  },
  {
   "cell_type": "code",
   "execution_count": 14,
   "id": "038edb35",
   "metadata": {},
   "outputs": [],
   "source": [
    "a = 'My Name is Sarvesh'  # Global variable\n",
    "\n",
    "def test():\n",
    "    b_ = \"My name is Harsh\"       # Local variable\n",
    "    print(a)\n",
    "    print(b_)"
   ]
  },
  {
   "cell_type": "code",
   "execution_count": 15,
   "id": "4d414edc",
   "metadata": {},
   "outputs": [
    {
     "name": "stdout",
     "output_type": "stream",
     "text": [
      "My Name is Sarvesh\n",
      "My name is Harsh\n"
     ]
    }
   ],
   "source": [
    "test()"
   ]
  },
  {
   "cell_type": "code",
   "execution_count": 16,
   "id": "8fa97aba",
   "metadata": {},
   "outputs": [
    {
     "data": {
      "text/plain": [
       "'My Name is Sarvesh'"
      ]
     },
     "execution_count": 16,
     "metadata": {},
     "output_type": "execute_result"
    }
   ],
   "source": [
    "a"
   ]
  },
  {
   "cell_type": "code",
   "execution_count": 18,
   "id": "33c195f5",
   "metadata": {},
   "outputs": [
    {
     "ename": "NameError",
     "evalue": "name 'b_' is not defined",
     "output_type": "error",
     "traceback": [
      "\u001b[1;31m---------------------------------------------------------------------------\u001b[0m",
      "\u001b[1;31mNameError\u001b[0m                                 Traceback (most recent call last)",
      "Cell \u001b[1;32mIn[18], line 1\u001b[0m\n\u001b[1;32m----> 1\u001b[0m \u001b[43mb_\u001b[49m   \u001b[38;5;66;03m# because it is local variable that is why it is not acceseable\u001b[39;00m\n",
      "\u001b[1;31mNameError\u001b[0m: name 'b_' is not defined"
     ]
    }
   ],
   "source": [
    "b_   # because it is local variable that is why it is not acceseable"
   ]
  },
  {
   "cell_type": "markdown",
   "id": "d46427f1",
   "metadata": {},
   "source": [
    "### 7. What is the concept of a return value? Is it possible to have a return value in an expression?"
   ]
  },
  {
   "cell_type": "markdown",
   "id": "ed8221e6",
   "metadata": {},
   "source": [
    "The concept of a return value relates to functions in Python. When a function is called, it can perform some computations or operations and optionally return a value back to the caller.\n",
    "\n",
    "A return value is the result or output that a function provides after executing its code. It allows the function to communicate information or data back to the part of the program that invoked it. The return value can be of any data type, such as numbers, strings, lists, dictionaries, or even custom objects."
   ]
  },
  {
   "cell_type": "code",
   "execution_count": 3,
   "id": "d625e1c6",
   "metadata": {},
   "outputs": [
    {
     "name": "stdout",
     "output_type": "stream",
     "text": [
      "17\n"
     ]
    }
   ],
   "source": [
    "a= 2-3*5+30\n",
    "print(a)"
   ]
  },
  {
   "cell_type": "code",
   "execution_count": 2,
   "id": "8338c7a0",
   "metadata": {},
   "outputs": [
    {
     "ename": "SyntaxError",
     "evalue": "'return' outside function (2298687317.py, line 1)",
     "output_type": "error",
     "traceback": [
      "\u001b[1;36m  Cell \u001b[1;32mIn[2], line 1\u001b[1;36m\u001b[0m\n\u001b[1;33m    return(a)\u001b[0m\n\u001b[1;37m    ^\u001b[0m\n\u001b[1;31mSyntaxError\u001b[0m\u001b[1;31m:\u001b[0m 'return' outside function\n"
     ]
    }
   ],
   "source": [
    "return(a)"
   ]
  },
  {
   "cell_type": "markdown",
   "id": "dc4b8431",
   "metadata": {},
   "source": [
    "so return statement works when it is associated with function."
   ]
  },
  {
   "cell_type": "markdown",
   "id": "90458bf0",
   "metadata": {},
   "source": [
    "### 8. If a function does not have a return statement, what is the return value of a call to that function?"
   ]
  },
  {
   "cell_type": "markdown",
   "id": "43abe0ed",
   "metadata": {},
   "source": [
    "If a function does not have a return statement, it will automatically return the value None. None is a special built-in constant in Python that represents the absence of a value or the lack of a return value."
   ]
  },
  {
   "cell_type": "code",
   "execution_count": 13,
   "id": "5334b7a6",
   "metadata": {},
   "outputs": [],
   "source": [
    "def check(a,b):\n",
    "    c= a+b\n",
    "    \n"
   ]
  },
  {
   "cell_type": "code",
   "execution_count": 14,
   "id": "dc59aae7",
   "metadata": {},
   "outputs": [],
   "source": [
    "check(2,3)"
   ]
  },
  {
   "cell_type": "code",
   "execution_count": 15,
   "id": "388d41fc",
   "metadata": {},
   "outputs": [
    {
     "data": {
      "text/plain": [
       "NoneType"
      ]
     },
     "execution_count": 15,
     "metadata": {},
     "output_type": "execute_result"
    }
   ],
   "source": [
    "type(check(2,3))"
   ]
  },
  {
   "cell_type": "markdown",
   "id": "14b1cc1f",
   "metadata": {},
   "source": [
    "### 10 What is the data type of None?"
   ]
  },
  {
   "cell_type": "markdown",
   "id": "5ef609c1",
   "metadata": {},
   "source": [
    "NoneType"
   ]
  },
  {
   "cell_type": "code",
   "execution_count": 16,
   "id": "45533fd4",
   "metadata": {},
   "outputs": [
    {
     "data": {
      "text/plain": [
       "NoneType"
      ]
     },
     "execution_count": 16,
     "metadata": {},
     "output_type": "execute_result"
    }
   ],
   "source": [
    "type(None)"
   ]
  },
  {
   "cell_type": "markdown",
   "id": "a9044787",
   "metadata": {},
   "source": [
    "### 12. If you had a bacon() feature in a spam module, what would you call it after importing spam?"
   ]
  },
  {
   "cell_type": "markdown",
   "id": "86bee12d",
   "metadata": {},
   "source": [
    "If we imported a module called \"spam\" that had a feature named \"bacon()\", we could simply call it using the following syntax:"
   ]
  },
  {
   "cell_type": "markdown",
   "id": "e97092f1",
   "metadata": {},
   "source": [
    "import spam \n",
    "\n",
    "spam.bacon()"
   ]
  },
  {
   "cell_type": "markdown",
   "id": "e591d78a",
   "metadata": {},
   "source": [
    "### 13. What can you do to save a programme from crashing if it encounters an error?"
   ]
  },
  {
   "cell_type": "markdown",
   "id": "95973203",
   "metadata": {},
   "source": [
    "wrong code lead us to crashing of code which shows the error . to avoid it we use Exception handling."
   ]
  },
  {
   "cell_type": "code",
   "execution_count": 20,
   "id": "4ef01913",
   "metadata": {},
   "outputs": [
    {
     "name": "stdout",
     "output_type": "stream",
     "text": [
      "unsupported operand type(s) for -: 'str' and 'str'\n"
     ]
    }
   ],
   "source": [
    "try :\n",
    "    a= 'Sarvesh is Good boy'\n",
    "    b = \" He is preperaing for data science jobs\"\n",
    "    c= a  b\n",
    "    print(c)\n",
    "    \n",
    "except Exception as e :\n",
    "    print(e)"
   ]
  },
  {
   "cell_type": "markdown",
   "id": "43b8866d",
   "metadata": {},
   "source": [
    "instead of showing huge error message it only shown the cause of error."
   ]
  },
  {
   "cell_type": "markdown",
   "id": "60b83460",
   "metadata": {},
   "source": [
    "### 14. What is the purpose of the try clause? What is the purpose of the except clause?"
   ]
  },
  {
   "cell_type": "markdown",
   "id": "64b39a92",
   "metadata": {},
   "source": [
    "Solution\n",
    "\n",
    "\n",
    "try clause: The try clause is used to enclose a block of code that may potentially raise an exception. It allows us to identify and handle potential errors or exceptions that might occur during the execution of the code within the try block. If an exception occurs within the try block, the code execution immediately jumps to the corresponding except block.\n",
    "\n",
    "except clause: The except clause follows the try block and specifies the type of exception it can handle. It is used to define the actions to be taken when a specific exception occurs. We can have multiple except clauses to handle different types of exceptions. If an exception occurs in the try block and matches the specified exception type in an except block, the code within that except block is executed."
   ]
  },
  {
   "cell_type": "code",
   "execution_count": null,
   "id": "efeef8da",
   "metadata": {},
   "outputs": [],
   "source": []
  },
  {
   "cell_type": "code",
   "execution_count": null,
   "id": "975cdd53",
   "metadata": {},
   "outputs": [],
   "source": []
  },
  {
   "cell_type": "markdown",
   "id": "c6f2be13",
   "metadata": {},
   "source": [
    "## Done !!\n"
   ]
  },
  {
   "cell_type": "code",
   "execution_count": null,
   "id": "81f83a22",
   "metadata": {},
   "outputs": [],
   "source": []
  }
 ],
 "metadata": {
  "kernelspec": {
   "display_name": "Python 3 (ipykernel)",
   "language": "python",
   "name": "python3"
  },
  "language_info": {
   "codemirror_mode": {
    "name": "ipython",
    "version": 3
   },
   "file_extension": ".py",
   "mimetype": "text/x-python",
   "name": "python",
   "nbconvert_exporter": "python",
   "pygments_lexer": "ipython3",
   "version": "3.11.2"
  }
 },
 "nbformat": 4,
 "nbformat_minor": 5
}
