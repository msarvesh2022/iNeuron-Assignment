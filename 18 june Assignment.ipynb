{
 "cells": [
  {
   "cell_type": "markdown",
   "id": "86987127",
   "metadata": {},
   "source": [
    "### 1. What is the role of the 'else' block in a try-except statement? Provide an example scenario where it would be useful."
   ]
  },
  {
   "cell_type": "markdown",
   "id": "dff86b4e",
   "metadata": {},
   "source": [
    "In a try-except statement, the 'else' block is an optional component that comes after the 'try' block and before the 'finally' block (if there is one). The 'else' block is executed only if the code inside the 'try' block runs successfully without raising any exceptions. It is used to define a set of statements that should be executed when no exceptions occur in the 'try' block."
   ]
  },
  {
   "cell_type": "code",
   "execution_count": 2,
   "id": "3d84274c",
   "metadata": {},
   "outputs": [
    {
     "name": "stdout",
     "output_type": "stream",
     "text": [
      "What is first number2\n",
      "What is second number4\n",
      "0.5\n",
      "code is working\n"
     ]
    }
   ],
   "source": [
    "try : \n",
    "    a= int(input('What is first number'))\n",
    "    b = int(input('What is second number'))\n",
    "    c= a/b\n",
    "    print(c)\n",
    "except Exception as e:\n",
    "    print(e)\n",
    "    \n",
    "else:\n",
    "    print('code is working')"
   ]
  },
  {
   "cell_type": "markdown",
   "id": "b5c44a5c",
   "metadata": {},
   "source": [
    "### 2. Can a try-except block be nested inside another try-except block? Explain with an example."
   ]
  },
  {
   "cell_type": "markdown",
   "id": "5447dcbb",
   "metadata": {},
   "source": [
    "Yes We can use it.\n"
   ]
  },
  {
   "cell_type": "code",
   "execution_count": 10,
   "id": "cba3d3f9",
   "metadata": {},
   "outputs": [
    {
     "name": "stdout",
     "output_type": "stream",
     "text": [
      "What is your first NameSarvesh\n",
      "What is your year of birth2001\n",
      "Hello Sarvesh . Your age is 22 \n"
     ]
    }
   ],
   "source": [
    "try:\n",
    "    name= input('What is your first Name')\n",
    "    \n",
    "    \n",
    "    try:\n",
    "        age= int(input('What is your year of birth'))\n",
    "    except Exception as e:\n",
    "        print(f'This error in age input and error is {e}')\n",
    "    print(f\"Hello {name} . Your age is {2023-age} \")\n",
    "        \n",
    "except Exception as e :\n",
    "    print(f\"This error in name input and error is {name}\")\n",
    "        "
   ]
  },
  {
   "cell_type": "markdown",
   "id": "bee81f56",
   "metadata": {},
   "source": [
    "### 3. How can you create a custom exception class in Python? Provide an example that demonstrates its usage."
   ]
  },
  {
   "cell_type": "markdown",
   "id": "b046d51f",
   "metadata": {},
   "source": [
    "using raise exception we can create our own exception"
   ]
  },
  {
   "cell_type": "code",
   "execution_count": 16,
   "id": "41a98bb5",
   "metadata": {},
   "outputs": [
    {
     "name": "stdout",
     "output_type": "stream",
     "text": [
      "What is your age2\n",
      "name 'age_error' is not defined\n"
     ]
    }
   ],
   "source": [
    "try :\n",
    "    age = int(input('What is your age'))\n",
    "    \n",
    "    if age < 18:\n",
    "        raise age_error\n",
    "        print('Sorry you are not eligible')\n",
    "            \n",
    "except Exception as e:\n",
    "    print(e)"
   ]
  },
  {
   "cell_type": "markdown",
   "id": "43df5ba1",
   "metadata": {},
   "source": [
    "### 4. What are some common exceptions that are built-in to Python?"
   ]
  },
  {
   "cell_type": "markdown",
   "id": "1bbc15e8",
   "metadata": {},
   "source": [
    "Python has a variety of built-in exceptions that cover a wide range of common error scenarios. Some of the most common built-in exceptions in Python include:\n",
    "\n",
    "- SyntaxError: Raised when there is a syntax error in the code.\n",
    "- IndentationError: Raised when there is an incorrect indentation in the code.\n",
    "- NameError: Raised when a local or global name is not found.\n",
    "- TypeError: Raised when an operation or function is applied to an object of an inappropriate type.\n",
    "- ValueError: Raised when an operation or function receives an argument of the correct type but an inappropriate value.\n",
    "- ZeroDivisionError: Raised when division or modulo by zero is performed."
   ]
  },
  {
   "cell_type": "markdown",
   "id": "b54d70b2",
   "metadata": {},
   "source": [
    "### 5. What is logging in Python, and why is it important in software development?"
   ]
  },
  {
   "cell_type": "markdown",
   "id": "dd290d77",
   "metadata": {},
   "source": [
    "Logging in Python refers to the practice of recording messages or events during the execution of a program to provide useful information about its behavior. It involves the use of the Python's built-in logging module, which offers a flexible and standardized way to generate log messages in various formats and for different purposes.\n",
    "\n",
    "The primary objectives of logging in Python are as follows:\n",
    "\n",
    "- Debugging and Troubleshooting: During the development phase, logging is crucial for identifying and understanding errors, exceptions, and unexpected behavior in the code. By examining the log messages, developers can pinpoint the exact sequence of events leading up to an issue and make informed decisions about how to fix it.\n",
    "\n",
    "- Monitoring and Auditing: In production environments, logging plays a vital role in monitoring the application's performance and health. By analyzing logs, developers and system administrators can detect anomalies, track usage patterns, and ensure the system is running smoothly.\n",
    "\n",
    "- Post-mortem Analysis: When a critical failure occurs in a production system, logs can provide valuable information for post-mortem analysis. This helps in understanding the root cause of the failure, minimizing downtime, and preventing similar incidents in the future."
   ]
  },
  {
   "cell_type": "markdown",
   "id": "cdda27be",
   "metadata": {},
   "source": [
    "### 6. Explain the purpose of log levels in Python logging and provide examples of when each log level would be appropriate."
   ]
  },
  {
   "cell_type": "markdown",
   "id": "e7b91d19",
   "metadata": {},
   "source": [
    "The purpose of log levels in Python logging is to control the verbosity of log messages and allow developers to categorize and prioritize the information being logged. "
   ]
  },
  {
   "cell_type": "code",
   "execution_count": 8,
   "id": "8562d12d",
   "metadata": {},
   "outputs": [],
   "source": [
    "# debug\n",
    "import logging\n",
    "\n",
    "logging.basicConfig(level=logging.DEBUG)\n",
    "logger = logging.getLogger(__name__)\n",
    "\n",
    "def some_function():\n",
    "    x = 42\n",
    "    y = 15\n",
    "    logger.debug(f\"Calculating result: x={x}, y={y}\")\n",
    "    result = x + y\n",
    "    logger.debug(f\"Result: {result}\")\n",
    "    return result\n"
   ]
  },
  {
   "cell_type": "code",
   "execution_count": 6,
   "id": "6c710673",
   "metadata": {},
   "outputs": [],
   "source": [
    "# info\n",
    "import logging\n",
    "\n",
    "logging.basicConfig(level=logging.INFO)\n",
    "logger = logging.getLogger(__name__)\n",
    "\n",
    "def main():\n",
    "    logger.info(\"Starting the application...\")\n",
    "    # Code for the main program execution\n",
    "    logger.info(\"Application execution completed successfully.\")\n"
   ]
  },
  {
   "cell_type": "code",
   "execution_count": 7,
   "id": "8f6d36e7",
   "metadata": {},
   "outputs": [],
   "source": [
    "# warning\n",
    "import logging\n",
    "\n",
    "logging.basicConfig(level=logging.WARNING)\n",
    "logger = logging.getLogger(__name__)\n",
    "\n",
    "def some_function(x):\n",
    "    if x <= 0:\n",
    "        logger.warning(f\"Input {x} is not positive. Using default value.\")\n",
    "        x = 1\n",
    "    # Rest of the function's code\n"
   ]
  },
  {
   "cell_type": "code",
   "execution_count": 5,
   "id": "febdd965",
   "metadata": {},
   "outputs": [],
   "source": [
    "# Error\n",
    "import logging\n",
    "\n",
    "logging.basicConfig(level=logging.ERROR)\n",
    "logger = logging.getLogger(__name__)\n",
    "\n",
    "def divide(a, b):\n",
    "    try:\n",
    "        result = a / b\n",
    "    except ZeroDivisionError:\n",
    "        logger.error(\"Division by zero not allowed.\")\n",
    "        result = None\n",
    "    return result\n"
   ]
  },
  {
   "cell_type": "markdown",
   "id": "77dba65e",
   "metadata": {},
   "source": [
    "### 7. What are log formatters in Python logging, and how can you customise the log message format using formatters?"
   ]
  },
  {
   "cell_type": "markdown",
   "id": "8f52845a",
   "metadata": {},
   "source": [
    "Log formatters in Python logging are responsible for defining the structure and content of log messages generated by the logging module. They allow developers to customize how log records are presented, including information such as the log level, timestamp, logger name, message, and any additional data that might be useful for debugging and analysis. Python's logging module provides a range of built-in formatters, and developers can also create custom formatters to suit their specific logging needs."
   ]
  },
  {
   "cell_type": "markdown",
   "id": "09f48103",
   "metadata": {},
   "source": [
    "### 8. How can you set up logging to capture log messages from multiple modules or classes in a Python application?"
   ]
  },
  {
   "cell_type": "markdown",
   "id": "dbfecafd",
   "metadata": {},
   "source": [
    "To capture log messages from multiple modules or classes in a Python application, you need to set up a logging configuration that allows all the relevant parts of your application to use the same logging system. The key is to configure a logger with appropriate handlers and formatters and ensure that all modules and classes use that logger for logging purposes. Here's a step-by-step guide to achieving this:\n",
    "\n",
    "- Import the required modules\n",
    "- Configure the logging system\n",
    "- Get the logger in each module/class\n",
    "- Use the loggers to log messages"
   ]
  },
  {
   "cell_type": "markdown",
   "id": "b174c189",
   "metadata": {},
   "source": [
    "### 9. What is the difference between the logging and print statements in Python? When should you use logging over print statements in a real-world application?"
   ]
  },
  {
   "cell_type": "markdown",
   "id": "0861d3ec",
   "metadata": {},
   "source": [
    "Logging:\n",
    "\n",
    "- Purpose: Logging is primarily used for generating log messages to capture the behavior and events of a program during its execution. It is an essential tool for debugging, troubleshooting, and monitoring applications.\n",
    "- Flexibility: The logging module provides a range of log levels (DEBUG, INFO, WARNING, ERROR, CRITICAL) that allow you to control the verbosity of log messages and manage the amount of information displayed based on the application's context.\n",
    "- Configuration: Logging allows you to configure the behavior of log messages globally, including log level, output destination (e.g., file, console), log rotation, formatting, and more."
   ]
  },
  {
   "cell_type": "markdown",
   "id": "06f29b9a",
   "metadata": {},
   "source": [
    "Print Statements:\n",
    "\n",
    "- Purpose: Print statements are generally used for simple debugging purposes during development. They help you quickly inspect variables, values, or the flow of your code at a specific point in time.\n",
    "- Verbosity: Print statements lack the ability to differentiate between different log levels, so all statements are displayed equally.\n",
    "- Configuration: Print statements are not configurable without changing the source code. If you want to control the output or disable them for production, you need to comment or remove the print statements manually.\n",
    "- Runtime impact: Print statements always execute and display output whenever they are encountered, which can add unnecessary overhead to the application."
   ]
  },
  {
   "cell_type": "markdown",
   "id": "4367eb9c",
   "metadata": {},
   "source": [
    "### 10. Write a Python program that logs a message to a file named \"app.log\" with the\n",
    "following requirements:\n",
    "● The log message should be \"Hello, World!\"\n",
    "● The log level should be set to \"INFO.\"\n",
    "● The log file should append new log entries without overwriting previous ones."
   ]
  },
  {
   "cell_type": "code",
   "execution_count": 9,
   "id": "1e7adfd2",
   "metadata": {},
   "outputs": [
    {
     "name": "stderr",
     "output_type": "stream",
     "text": [
      "INFO:my_logger:Hello, World!\n"
     ]
    }
   ],
   "source": [
    "import logging\n",
    "\n",
    "def setup_logger():\n",
    "    # Create a logger\n",
    "    logger = logging.getLogger('my_logger')\n",
    "    logger.setLevel(logging.INFO)\n",
    "\n",
    "    # Create a file handler and set it to append mode\n",
    "    file_handler = logging.FileHandler('app.log', mode='a')\n",
    "\n",
    "    # Create a formatter to specify the log message format\n",
    "    formatter = logging.Formatter('%(asctime)s - %(levelname)s - %(message)s')\n",
    "    file_handler.setFormatter(formatter)\n",
    "\n",
    "    # Add the file handler to the logger\n",
    "    logger.addHandler(file_handler)\n",
    "\n",
    "    return logger\n",
    "\n",
    "def main():\n",
    "    # Setup the logger\n",
    "    logger = setup_logger()\n",
    "\n",
    "    # Log the message with INFO level\n",
    "    logger.info('Hello, World!')\n",
    "\n",
    "if __name__ == \"__main__\":\n",
    "    main()\n"
   ]
  },
  {
   "cell_type": "markdown",
   "id": "268dcb3a",
   "metadata": {},
   "source": [
    "### 11. Create a Python program that logs an error message to the console and a file named \"errors.log\" if an exception occurs during the program's execution. The error message should include the exception type and a timestamp."
   ]
  },
  {
   "cell_type": "code",
   "execution_count": 10,
   "id": "ac89031d",
   "metadata": {},
   "outputs": [
    {
     "name": "stdout",
     "output_type": "stream",
     "text": [
      "2023-07-26 11:59:18,580 - ERROR - Exception: ZeroDivisionError - division by zero\n"
     ]
    },
    {
     "name": "stderr",
     "output_type": "stream",
     "text": [
      "ERROR:error_logger:Exception: ZeroDivisionError - division by zero\n"
     ]
    }
   ],
   "source": [
    "import logging\n",
    "import sys\n",
    "\n",
    "def setup_logger():\n",
    "    # Create a logger\n",
    "    logger = logging.getLogger('error_logger')\n",
    "    logger.setLevel(logging.ERROR)\n",
    "\n",
    "    # Create a console handler\n",
    "    console_handler = logging.StreamHandler(sys.stdout)\n",
    "\n",
    "    # Create a file handler and set it to append mode\n",
    "    file_handler = logging.FileHandler('errors.log', mode='a')\n",
    "\n",
    "    # Create a formatter to specify the log message format\n",
    "    formatter = logging.Formatter('%(asctime)s - %(levelname)s - %(message)s')\n",
    "    console_handler.setFormatter(formatter)\n",
    "    file_handler.setFormatter(formatter)\n",
    "\n",
    "    # Add the handlers to the logger\n",
    "    logger.addHandler(console_handler)\n",
    "    logger.addHandler(file_handler)\n",
    "\n",
    "    return logger\n",
    "\n",
    "def main():\n",
    "    # Setup the logger\n",
    "    logger = setup_logger()\n",
    "\n",
    "    try:\n",
    "        # Code that may raise an exception\n",
    "        result = 10 / 0  # Division by zero to trigger an exception (ZeroDivisionError)\n",
    "    except Exception as e:\n",
    "        # Log the exception with ERROR level\n",
    "        logger.error(f'Exception: {type(e).__name__} - {e}')\n",
    "\n",
    "if __name__ == \"__main__\":\n",
    "    main()\n"
   ]
  },
  {
   "cell_type": "code",
   "execution_count": null,
   "id": "88cf4742",
   "metadata": {},
   "outputs": [],
   "source": []
  }
 ],
 "metadata": {
  "kernelspec": {
   "display_name": "Python 3 (ipykernel)",
   "language": "python",
   "name": "python3"
  },
  "language_info": {
   "codemirror_mode": {
    "name": "ipython",
    "version": 3
   },
   "file_extension": ".py",
   "mimetype": "text/x-python",
   "name": "python",
   "nbconvert_exporter": "python",
   "pygments_lexer": "ipython3",
   "version": "3.10.9"
  }
 },
 "nbformat": 4,
 "nbformat_minor": 5
}
