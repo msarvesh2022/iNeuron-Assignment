{
 "cells": [
  {
   "cell_type": "markdown",
   "id": "55d6ea06",
   "metadata": {},
   "source": [
    "### 1. In the below elements which of them are values or an expression? eg:- values can be\n",
    "### integer or string and expressions will be mathematical operators.\n"
   ]
  },
  {
   "cell_type": "markdown",
   "id": "8d8be858",
   "metadata": {},
   "source": [
    "Solution-\n",
    "\n",
    "values are = \"hello\" , 87.5 , 6\n",
    "\n",
    "expressions are = / , * , - , +"
   ]
  },
  {
   "cell_type": "markdown",
   "id": "9600d792",
   "metadata": {},
   "source": [
    "### 2. What is the difference between string and variable?"
   ]
  },
  {
   "cell_type": "markdown",
   "id": "d4e9280d",
   "metadata": {},
   "source": [
    "Solution -\n",
    "\n",
    "String is the one of the data type in python. We write string inside this doubly inverted comma \" \"\n",
    "and variable are the named location used to store data in memory.\n",
    "eg-\n",
    "\n",
    "Name= \"Sarvesh\"\n",
    "\n",
    "Here Sarvesh is a string and Name is a variable which is storing the string. \n"
   ]
  },
  {
   "cell_type": "markdown",
   "id": "c22165e6",
   "metadata": {},
   "source": [
    "### 3. Describe three data types"
   ]
  },
  {
   "cell_type": "markdown",
   "id": "a93b3001",
   "metadata": {},
   "source": [
    "Here is three data types \n",
    "\n",
    "1. string - \"Apple\",\"Data Scientist\"\n",
    "2. integer - 2,4,40\n",
    "3. float - 24.5, 12.3, 34.8"
   ]
  },
  {
   "cell_type": "markdown",
   "id": "1293ec5c",
   "metadata": {},
   "source": [
    "### 4. What is an expression made up of? What do all expressions do?"
   ]
  },
  {
   "cell_type": "markdown",
   "id": "7fd6da73",
   "metadata": {},
   "source": [
    "Solution - \n",
    "\n",
    "In Python, an expression is a combination of values, variables, operators, and function calls that evaluates to a single value. It can be as simple as a single value or as complex as a multi-line statement"
   ]
  },
  {
   "cell_type": "markdown",
   "id": "38518309",
   "metadata": {},
   "source": [
    "### 5. This assignment statements, like spam = 10. What is the difference between an\n",
    "### expression and a statement?"
   ]
  },
  {
   "cell_type": "markdown",
   "id": "d7bd296c",
   "metadata": {},
   "source": [
    "Solution - \n",
    "\n",
    "An expression which contain variable , values , operators and function calls that evaluate to a single value.\n",
    "\n",
    "A statement is a complete instruction or command which perform action. Statements can consist of expressions, but they can also include control structures (such as if-else, loops), assignments, function definitions, and more."
   ]
  },
  {
   "cell_type": "markdown",
   "id": "5b1b821f",
   "metadata": {},
   "source": [
    "### 6. After running the following code, what does the variable bacon contain?\n",
    "#### bacon = 22\n",
    "#### bacon + 1"
   ]
  },
  {
   "cell_type": "markdown",
   "id": "67c1efb2",
   "metadata": {},
   "source": [
    "Solution - \n",
    "\n",
    "It will 23."
   ]
  },
  {
   "cell_type": "markdown",
   "id": "e0f660cf",
   "metadata": {},
   "source": [
    "### 7. What should the values of the following two terms be?"
   ]
  },
  {
   "cell_type": "markdown",
   "id": "5d34dc26",
   "metadata": {},
   "source": [
    "Solution -\n",
    "1.\n",
    "\n",
    "\"spam\"+\"spam\" = \"spamspam\"\n",
    "\n",
    "2.\n",
    "\n",
    "\"spam\"*3 = \"spamspamspam\""
   ]
  },
  {
   "cell_type": "markdown",
   "id": "d4f2a17c",
   "metadata": {},
   "source": [
    "### 8. Why is eggs a valid variable name while 100 is invalid?"
   ]
  },
  {
   "cell_type": "markdown",
   "id": "48312781",
   "metadata": {},
   "source": [
    "Solution -\n",
    "\n",
    "There is some rule in Python for making variable.\n",
    "\n",
    "according to those rule variable should not be start be digit. That is why 100 is invalid variable.\n"
   ]
  },
  {
   "cell_type": "markdown",
   "id": "2d4d0143",
   "metadata": {},
   "source": [
    "### 9. What three functions can be used to get the integer, floating-point number, or string version of a value?"
   ]
  },
  {
   "cell_type": "markdown",
   "id": "b1133859",
   "metadata": {},
   "source": [
    "In python there is some function by which we can change the data type of the given variable.\n",
    "\n",
    "for string - str()\n",
    "for integer - int()\n",
    "for float - float ()"
   ]
  },
  {
   "cell_type": "code",
   "execution_count": 14,
   "id": "fc494da6",
   "metadata": {},
   "outputs": [
    {
     "data": {
      "text/plain": [
       "('34', 32, 30.0)"
      ]
     },
     "execution_count": 14,
     "metadata": {},
     "output_type": "execute_result"
    }
   ],
   "source": [
    "str(34),int(32.5), float(30)\n"
   ]
  },
  {
   "cell_type": "markdown",
   "id": "6819adff",
   "metadata": {},
   "source": [
    "### 10. Why does this expression cause an error? How can you fix it?&#39;I have eaten &#39; + 99 + &#39; burritos.&#39;"
   ]
  },
  {
   "cell_type": "markdown",
   "id": "651cf8d6",
   "metadata": {},
   "source": [
    "Solution-\n",
    "\n",
    "The problem which above expression is that string can only add with string but here 99 is integer.\n",
    "That is why is is showing error. \n",
    "\n",
    "solution first we have to change the data type of 99 from integer to string using str() function"
   ]
  },
  {
   "cell_type": "code",
   "execution_count": 21,
   "id": "dbe65258",
   "metadata": {},
   "outputs": [
    {
     "data": {
      "text/plain": [
       "'I have eaten 99 burritos '"
      ]
     },
     "execution_count": 21,
     "metadata": {},
     "output_type": "execute_result"
    }
   ],
   "source": [
    "\"I have eaten \" + str(99) + \" burritos \""
   ]
  },
  {
   "cell_type": "markdown",
   "id": "ff94d9d7",
   "metadata": {},
   "source": [
    "## Completed !!"
   ]
  },
  {
   "cell_type": "code",
   "execution_count": null,
   "id": "ea7c3b86",
   "metadata": {},
   "outputs": [],
   "source": []
  }
 ],
 "metadata": {
  "kernelspec": {
   "display_name": "Python 3 (ipykernel)",
   "language": "python",
   "name": "python3"
  },
  "language_info": {
   "codemirror_mode": {
    "name": "ipython",
    "version": 3
   },
   "file_extension": ".py",
   "mimetype": "text/x-python",
   "name": "python",
   "nbconvert_exporter": "python",
   "pygments_lexer": "ipython3",
   "version": "3.11.2"
  }
 },
 "nbformat": 4,
 "nbformat_minor": 5
}
