{
 "cells": [
  {
   "cell_type": "markdown",
   "id": "1e100684",
   "metadata": {},
   "source": [
    "### Q.1. What are keywords in python? Using the keyword library, print all the python keywords."
   ]
  },
  {
   "cell_type": "markdown",
   "id": "b8c8e592",
   "metadata": {},
   "source": [
    "In Python, keywords are reserved words that have special meanings and are used to define the syntax and structure of the language. These keywords cannot be used as variable names or identifiers because they are already predefined in the Python language."
   ]
  },
  {
   "cell_type": "code",
   "execution_count": 1,
   "id": "072ece74",
   "metadata": {},
   "outputs": [],
   "source": [
    "import keyword as kw"
   ]
  },
  {
   "cell_type": "code",
   "execution_count": 7,
   "id": "e51d4fdd",
   "metadata": {},
   "outputs": [
    {
     "data": {
      "text/plain": [
       "['False',\n",
       " 'None',\n",
       " 'True',\n",
       " 'and',\n",
       " 'as',\n",
       " 'assert',\n",
       " 'async',\n",
       " 'await',\n",
       " 'break',\n",
       " 'class',\n",
       " 'continue',\n",
       " 'def',\n",
       " 'del',\n",
       " 'elif',\n",
       " 'else',\n",
       " 'except',\n",
       " 'finally',\n",
       " 'for',\n",
       " 'from',\n",
       " 'global',\n",
       " 'if',\n",
       " 'import',\n",
       " 'in',\n",
       " 'is',\n",
       " 'lambda',\n",
       " 'nonlocal',\n",
       " 'not',\n",
       " 'or',\n",
       " 'pass',\n",
       " 'raise',\n",
       " 'return',\n",
       " 'try',\n",
       " 'while',\n",
       " 'with',\n",
       " 'yield']"
      ]
     },
     "execution_count": 7,
     "metadata": {},
     "output_type": "execute_result"
    }
   ],
   "source": [
    "kw.kwlist"
   ]
  },
  {
   "cell_type": "code",
   "execution_count": 6,
   "id": "9bb4c8e4",
   "metadata": {},
   "outputs": [
    {
     "data": {
      "text/plain": [
       "35"
      ]
     },
     "execution_count": 6,
     "metadata": {},
     "output_type": "execute_result"
    }
   ],
   "source": [
    "len(kw.kwlist)"
   ]
  },
  {
   "cell_type": "markdown",
   "id": "e2c8107c",
   "metadata": {},
   "source": [
    "- in Python here is 35 reserved keywords."
   ]
  },
  {
   "cell_type": "markdown",
   "id": "6c9f62e2",
   "metadata": {},
   "source": [
    "### Q.2. What are the rules to create variables in python?"
   ]
  },
  {
   "cell_type": "markdown",
   "id": "4f0651fa",
   "metadata": {},
   "source": [
    "Rules to create variable in python -\n",
    "- Variable Name can contain letter , digits or underscore \"_\"\n",
    "- first letter of variables should not be start with digit , any special charactor and not to be similar to python keywords .\n",
    "- There should not be space \" \" in variable.\n",
    "- use underscore to separate the words eg - number_first\n",
    "- Can't use hyphon\n",
    "- Try to make meaningful and descriptive variable so if other team member see your code so they can understand it.\n",
    "\n",
    "\n",
    "#### some example of variables -\n",
    "\n",
    "name , age_sarvesh , markrs_1,marks_2,count_2023 "
   ]
  },
  {
   "cell_type": "markdown",
   "id": "b6ce3a73",
   "metadata": {},
   "source": [
    "### Q.3. What are the standards and conventions followed for the nomenclature of variables in python to improve code readability and maintainability?"
   ]
  },
  {
   "cell_type": "markdown",
   "id": "cef0c05a",
   "metadata": {},
   "source": [
    "In Python, there are certain standards and conventions for variable naming that are widely followed to improve code readability and maintainability. These conventions help make the code more understandable and consistent across different Python projects. Here are some common standards and conventions:\n",
    "\n",
    "- Use descriptive names: Choose variable names that are meaningful and describe the purpose or content of the variable. This helps in understanding the code's intent without needing additional comments.\n",
    "\n",
    "- Lowercase with underscores: For most variables, follow the convention of using lowercase letters and underscores to separate words in variable names. This style is known as snake_case. For example: user_name, total_count, is_active."
   ]
  },
  {
   "cell_type": "markdown",
   "id": "f2f91b41",
   "metadata": {},
   "source": [
    "### Q.4. What will happen if a keyword is used as a variable name?"
   ]
  },
  {
   "cell_type": "markdown",
   "id": "8c8fb9b7",
   "metadata": {},
   "source": [
    "it will show SyntaxError"
   ]
  },
  {
   "cell_type": "code",
   "execution_count": 8,
   "id": "7435fdc4",
   "metadata": {},
   "outputs": [
    {
     "ename": "SyntaxError",
     "evalue": "cannot assign to True (2860707406.py, line 1)",
     "output_type": "error",
     "traceback": [
      "\u001b[1;36m  Cell \u001b[1;32mIn[8], line 1\u001b[1;36m\u001b[0m\n\u001b[1;33m    True = 8\u001b[0m\n\u001b[1;37m    ^\u001b[0m\n\u001b[1;31mSyntaxError\u001b[0m\u001b[1;31m:\u001b[0m cannot assign to True\n"
     ]
    }
   ],
   "source": [
    "True = 8"
   ]
  },
  {
   "cell_type": "markdown",
   "id": "ede24d5e",
   "metadata": {},
   "source": [
    "### Q.5. For what purpose def keyword is used?"
   ]
  },
  {
   "cell_type": "markdown",
   "id": "ca83d1ab",
   "metadata": {},
   "source": [
    "def keyword uses in creating the user defined function and meaning of def is \"Define\""
   ]
  },
  {
   "cell_type": "markdown",
   "id": "828e75be",
   "metadata": {},
   "source": [
    "### Q.6. What is the operation of this special character ‘\\’?"
   ]
  },
  {
   "cell_type": "markdown",
   "id": "ee653cca",
   "metadata": {},
   "source": [
    "The special character '' is known as the backslash. It serves several purposes and has different operations depending on the context in which it is used. Here are some common uses of the backslash in programming:\n",
    "\n",
    "\n",
    "- '\\n' represents a newline character.\n",
    "- '\\t' represents a tab character.\n",
    "- '\\' represents a literal backslash character."
   ]
  },
  {
   "cell_type": "markdown",
   "id": "c7bda660",
   "metadata": {},
   "source": [
    "### Q.7. Give an example of the following conditions:\n",
    "### (i) Homogeneous list\n",
    "### (ii) Heterogeneous set\n",
    "### (iii) Homogeneous tuple"
   ]
  },
  {
   "cell_type": "markdown",
   "id": "d70d8a71",
   "metadata": {},
   "source": [
    "Homogeneous list= [1,2,3,4,5,6] \n",
    "\n",
    "data type of all element should be same "
   ]
  },
  {
   "cell_type": "markdown",
   "id": "a1919c77",
   "metadata": {},
   "source": [
    "Heterogeneous set = { 'Sarvesh',123,'True',12.4, (23,34)}"
   ]
  },
  {
   "cell_type": "markdown",
   "id": "673c16a7",
   "metadata": {},
   "source": [
    "Homogeneous Tuple - (\"Harsh\", \"Sarvesh\",\"iNeuron\")"
   ]
  },
  {
   "cell_type": "markdown",
   "id": "f2526d0a",
   "metadata": {},
   "source": [
    "### Q.8. Explain the mutable and immutable data types with proper explanation & examples."
   ]
  },
  {
   "cell_type": "markdown",
   "id": "d371910e",
   "metadata": {},
   "source": [
    "### Mutable Data Types:\n",
    "\n",
    "Mutable data types are those whose values can be modified or changed after they are created.\n",
    "When a variable holds a mutable data type, it can be updated in-place, meaning the underlying value can be modified without creating a new object."
   ]
  },
  {
   "cell_type": "code",
   "execution_count": 9,
   "id": "85c8e487",
   "metadata": {},
   "outputs": [
    {
     "name": "stdout",
     "output_type": "stream",
     "text": [
      "[10, 2, 3]\n"
     ]
    }
   ],
   "source": [
    "my_list = [1, 2, 3]\n",
    "my_list[0] = 10  # Modifying the first element of the list\n",
    "print(my_list)  # Output: [10, 2, 3]\n"
   ]
  },
  {
   "cell_type": "markdown",
   "id": "4d885a7d",
   "metadata": {},
   "source": [
    "### Immutable Data Types:\n",
    "\n",
    "Immutable data types are those whose values cannot be changed after they are created.\n",
    "When a variable holds an immutable data type, any operation that seems to modify the value actually creates a new object with the updated value, while the original object remains unchanged."
   ]
  },
  {
   "cell_type": "code",
   "execution_count": 10,
   "id": "ee1bf649",
   "metadata": {},
   "outputs": [
    {
     "name": "stdout",
     "output_type": "stream",
     "text": [
      "Hello\n",
      "Hello, World!\n"
     ]
    }
   ],
   "source": [
    "my_string = \"Hello\"\n",
    "new_string = my_string + \", World!\"  # Concatenating strings\n",
    "print(my_string)  # Output: Hello\n",
    "print(new_string)  # Output: Hello, World!\n"
   ]
  },
  {
   "cell_type": "markdown",
   "id": "2e80baac",
   "metadata": {},
   "source": [
    "### Q.9. Write a code to create the given structure using only for loop.\n",
    "   \n",
    "   "
   ]
  },
  {
   "cell_type": "code",
   "execution_count": 13,
   "id": "b385d733",
   "metadata": {},
   "outputs": [],
   "source": [
    "#     *\n",
    "#    ***\n",
    "#   *****\n",
    "#  *******\n",
    "# *********"
   ]
  },
  {
   "cell_type": "code",
   "execution_count": 14,
   "id": "1b4b8d59",
   "metadata": {},
   "outputs": [
    {
     "name": "stdout",
     "output_type": "stream",
     "text": [
      "    *\n",
      "   ***\n",
      "  *****\n",
      " *******\n",
      "*********\n"
     ]
    }
   ],
   "source": [
    "rows = 5  # Number of rows in the structure\n",
    "\n",
    "for i in range(rows):\n",
    "    for j in range(rows - i - 1):\n",
    "        print(\" \", end=\"\")\n",
    "    for k in range(2 * i + 1):\n",
    "        print(\"*\", end=\"\")\n",
    "    print()\n"
   ]
  },
  {
   "cell_type": "markdown",
   "id": "bdad62ff",
   "metadata": {},
   "source": [
    "### Q.10. Write a code to create the given structure using while loop.\n"
   ]
  },
  {
   "cell_type": "code",
   "execution_count": 16,
   "id": "af820bd4",
   "metadata": {},
   "outputs": [],
   "source": [
    "#    |||||||||\n",
    "#     |||||||\n",
    "#      |||||\n",
    "#       |||\n",
    "#        |"
   ]
  },
  {
   "cell_type": "code",
   "execution_count": 15,
   "id": "3e78a2df",
   "metadata": {},
   "outputs": [
    {
     "name": "stdout",
     "output_type": "stream",
     "text": [
      "|||||||||\n",
      " |||||||\n",
      "  |||||\n",
      "   |||\n",
      "    |\n"
     ]
    }
   ],
   "source": [
    "rows = 5  # Number of rows in the structure\n",
    "row_count = 0  # Counter for rows\n",
    "pipe_count = rows * 2 - 1  # Initial number of pipes\n",
    "space_count = 0  # Initial number of spaces\n",
    "\n",
    "while row_count < rows:\n",
    "    # Print spaces\n",
    "    space = 0\n",
    "    while space < space_count:\n",
    "        print(\" \", end=\"\")\n",
    "        space += 1\n",
    "\n",
    "    # Print pipes\n",
    "    pipe = 0\n",
    "    while pipe < pipe_count:\n",
    "        print(\"|\", end=\"\")\n",
    "        pipe += 1\n",
    "\n",
    "    print()  # Move to the next line\n",
    "\n",
    "    row_count += 1  # Increment the row counter\n",
    "    space_count += 1  # Increment the space counter\n",
    "    pipe_count -= 2  # Decrease the number of pipes\n"
   ]
  },
  {
   "cell_type": "code",
   "execution_count": null,
   "id": "68f01632",
   "metadata": {},
   "outputs": [],
   "source": []
  },
  {
   "cell_type": "code",
   "execution_count": null,
   "id": "4ab34810",
   "metadata": {},
   "outputs": [],
   "source": []
  },
  {
   "cell_type": "markdown",
   "id": "f90470e8",
   "metadata": {},
   "source": [
    "## Done !!"
   ]
  },
  {
   "cell_type": "code",
   "execution_count": null,
   "id": "3e8df173",
   "metadata": {},
   "outputs": [],
   "source": []
  }
 ],
 "metadata": {
  "kernelspec": {
   "display_name": "Python 3 (ipykernel)",
   "language": "python",
   "name": "python3"
  },
  "language_info": {
   "codemirror_mode": {
    "name": "ipython",
    "version": 3
   },
   "file_extension": ".py",
   "mimetype": "text/x-python",
   "name": "python",
   "nbconvert_exporter": "python",
   "pygments_lexer": "ipython3",
   "version": "3.11.2"
  }
 },
 "nbformat": 4,
 "nbformat_minor": 5
}
