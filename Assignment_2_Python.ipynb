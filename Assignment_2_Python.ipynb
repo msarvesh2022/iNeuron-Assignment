{
 "cells": [
  {
   "cell_type": "markdown",
   "id": "5c4fd6f6",
   "metadata": {},
   "source": [
    "### 1. What are the two values of boolian data type ? How do you write them ?"
   ]
  },
  {
   "cell_type": "markdown",
   "id": "ec0c4ea7",
   "metadata": {},
   "source": [
    "In Boolian data type there is basically two values\n",
    "1.True \n",
    "2.False"
   ]
  },
  {
   "cell_type": "markdown",
   "id": "90b084f6",
   "metadata": {},
   "source": [
    "### 2. What are three diffrent type of Boolean operators ?"
   ]
  },
  {
   "cell_type": "markdown",
   "id": "1eb8807e",
   "metadata": {},
   "source": [
    "Three different type of Boolean operators are \n",
    "1. And\n",
    "2. Or\n",
    "3. Not"
   ]
  },
  {
   "cell_type": "code",
   "execution_count": 1,
   "id": "63635101",
   "metadata": {},
   "outputs": [
    {
     "data": {
      "text/plain": [
       "True"
      ]
     },
     "execution_count": 1,
     "metadata": {},
     "output_type": "execute_result"
    }
   ],
   "source": [
    "5>2"
   ]
  },
  {
   "cell_type": "code",
   "execution_count": 2,
   "id": "c00c524c",
   "metadata": {},
   "outputs": [
    {
     "data": {
      "text/plain": [
       "True"
      ]
     },
     "execution_count": 2,
     "metadata": {},
     "output_type": "execute_result"
    }
   ],
   "source": [
    "not(4>8)"
   ]
  },
  {
   "cell_type": "markdown",
   "id": "935160ca",
   "metadata": {},
   "source": [
    "### 3. Make a list of each Boolean operator&#39;s truth tables"
   ]
  },
  {
   "cell_type": "markdown",
   "id": "7594b4d2",
   "metadata": {},
   "source": [
    "basically here is 3 Boolean operators \n",
    "1. and \n",
    "2. or \n",
    "3. not\n",
    "\n",
    "\n",
    "We can understand this using the veign diagram .\n",
    "            \n",
    "-for and operator\n",
    "               \n",
    "-  True and True Result will be True\n",
    "\n",
    "- True and False result will be False \n",
    "\n",
    "#### for all operators \n",
    "\n",
    "- for and operator total 4 combination\n",
    "\n",
    "- for or operator also have 4 combination\n",
    "\n",
    "- for not operator total 2 combination\n"
   ]
  },
  {
   "cell_type": "markdown",
   "id": "d266e7c5",
   "metadata": {},
   "source": [
    "### 4. What are the values of the following expressions?\n",
    "(5 > 4) and (3 == 5)    Solution - False\n",
    "\n",
    "not (5 > 4)    Solution - False\n",
    "\n",
    "(5 > 4) or (3 == 5)    Solution - True\n",
    "\n",
    "not ((5 > 4) or (3 == 5)     Solution False\n",
    "\n",
    "(True and True) and (True == False)   Solution - False\n",
    "\n",
    "(not False) or (not True        Solution -  True\n"
   ]
  },
  {
   "cell_type": "code",
   "execution_count": 5,
   "id": "57a184dc",
   "metadata": {},
   "outputs": [
    {
     "data": {
      "text/plain": [
       "False"
      ]
     },
     "execution_count": 5,
     "metadata": {},
     "output_type": "execute_result"
    }
   ],
   "source": [
    "not(5>4) or (3==5)"
   ]
  },
  {
   "cell_type": "code",
   "execution_count": 9,
   "id": "5275fbea",
   "metadata": {},
   "outputs": [
    {
     "data": {
      "text/plain": [
       "True"
      ]
     },
     "execution_count": 9,
     "metadata": {},
     "output_type": "execute_result"
    }
   ],
   "source": [
    "(not True) or (not False )"
   ]
  },
  {
   "cell_type": "markdown",
   "id": "c91c9a5f",
   "metadata": {},
   "source": [
    "### 5. What are the six comparision operators"
   ]
  },
  {
   "cell_type": "markdown",
   "id": "2e5b5d17",
   "metadata": {},
   "source": [
    "Here is 6 comparision operators \n",
    "\n",
    "1. == (equal to)\n",
    "2. > (greater than )\n",
    "3. < (Less than )\n",
    "4. != (Not equal to )\n",
    "5. >= (Greater than or equal to)\n",
    "6. <= (Less than or equal to )"
   ]
  },
  {
   "cell_type": "markdown",
   "id": "8efa1518",
   "metadata": {},
   "source": [
    "### 6. How do you tell the difference between the equal to and assignment operators?Describe a condition and when you would use one.\n"
   ]
  },
  {
   "cell_type": "markdown",
   "id": "4f7332a0",
   "metadata": {},
   "source": [
    "1. Equality operators -\n",
    "it is denoted by '==' . It is used when there is need of showing to equal value with integer or string or any data type.\n",
    "eg-\n",
    "\n",
    "if name == \"Ram\"\n",
    "if marks == 90\n",
    "\n",
    "\n",
    "2. Assignment operators -\n",
    "\n",
    "it is denoted by \"=\". \n",
    "\n",
    "The assignment operator is used to assign a value to a variable. It takes the value on the right side and assigns it to the variable on the left side. It is used when you want to store a value in a variable or update its value.\n",
    "\n",
    "a= 5\n",
    "b= a+3\n",
    "\n",
    "print(b)"
   ]
  },
  {
   "cell_type": "markdown",
   "id": "c3d79ca0",
   "metadata": {},
   "source": [
    "## 7. Identify the three blocks in this code:\n",
    "spam = 0\n",
    "if spam == 10:\n",
    "print('eggs')\n",
    "if spam > 5:\n",
    "print('bacon')\n",
    "else:\n",
    "print('ham')\n",
    "print('spam')\n",
    "print('spam')\n"
   ]
  },
  {
   "cell_type": "code",
   "execution_count": 17,
   "id": "16861eae",
   "metadata": {},
   "outputs": [
    {
     "name": "stdout",
     "output_type": "stream",
     "text": [
      "eggs\n"
     ]
    }
   ],
   "source": [
    "# Solution--\n",
    "\n",
    "spam =10\n",
    "if spam ==10 :\n",
    "    print('eggs')\n",
    "elif spam > 5 :\n",
    "    print('bcon')\n",
    "else:\n",
    "    print('spam')"
   ]
  },
  {
   "cell_type": "markdown",
   "id": "40c9de49",
   "metadata": {},
   "source": [
    "### 8. Write code that prints Hello if 1 is stored in spam, prints Howdy if 2 is stored in spam, and prints Greetings! if anything else is stored in spam.\n"
   ]
  },
  {
   "cell_type": "code",
   "execution_count": 15,
   "id": "7885dad3",
   "metadata": {},
   "outputs": [
    {
     "name": "stdout",
     "output_type": "stream",
     "text": [
      "hello\n"
     ]
    }
   ],
   "source": [
    "# Solution \n",
    "\n",
    "spam =1\n",
    "\n",
    "if spam ==1:\n",
    "    print(\"hello\")\n",
    "elif spam ==2 : \n",
    "    print('Howdy')\n",
    "else:\n",
    "    print('spam')"
   ]
  },
  {
   "cell_type": "markdown",
   "id": "1e750b04",
   "metadata": {},
   "source": [
    "### 9. If your programme is stuck in an endless loop, what keys you’ll press."
   ]
  },
  {
   "cell_type": "markdown",
   "id": "c88872c8",
   "metadata": {},
   "source": [
    "If our program is stuck in an endless loop and we need to interrupt its execution.\n",
    "you can try the following key combinations depending on the environment or situation:\n",
    "\n",
    "Ctrl+C  - This is a common keyboard combination to send an interrupt signal to the running program. It works in most command-line interfaces and terminals to stop the execution of the program.\n",
    "\n",
    "\n",
    "Ctrl+D for macbook and linux"
   ]
  },
  {
   "cell_type": "markdown",
   "id": "239eb20c",
   "metadata": {},
   "source": [
    "### 10. How can you tell the difference between break and continue?"
   ]
  },
  {
   "cell_type": "markdown",
   "id": "cf1b0238",
   "metadata": {},
   "source": [
    "Solution -\n",
    "\n",
    "\n",
    "break and continue are two control flow statements which are used in loop like for and while.\n",
    "\n",
    "break - The break statement is used to immediately terminate the innermost loop (in which it is located) and resume execution at the next statement outside the loop. When the break statement is encountered, the loop is exited prematurely, regardless of whether the loop's condition has been fully satisfied.\n",
    "\n",
    "\n",
    "continue- The continue statement is used to skip the rest of the current iteration of the loop and move on to the next iteration. When the continue statement is encountered, the remaining code within the loop for that particular iteration is skipped, and the loop proceeds with the next iteration."
   ]
  },
  {
   "cell_type": "markdown",
   "id": "dac52fe1",
   "metadata": {},
   "source": [
    "### code of break and continue statements"
   ]
  },
  {
   "cell_type": "code",
   "execution_count": 1,
   "id": "46cbec6a",
   "metadata": {},
   "outputs": [
    {
     "name": "stdout",
     "output_type": "stream",
     "text": [
      "0\n",
      "1\n",
      "2\n",
      "3\n",
      "4\n",
      "5\n",
      "6\n"
     ]
    }
   ],
   "source": [
    "for i in range (10):\n",
    "    if i == 7:\n",
    "        break\n",
    "    print(i)    \n",
    "    \n",
    "# loop will stop at 6.    "
   ]
  },
  {
   "cell_type": "code",
   "execution_count": 2,
   "id": "ca73a7e4",
   "metadata": {},
   "outputs": [
    {
     "name": "stdout",
     "output_type": "stream",
     "text": [
      "0\n",
      "1\n",
      "2\n",
      "3\n",
      "4\n",
      "5\n",
      "6\n",
      "8\n",
      "9\n"
     ]
    }
   ],
   "source": [
    "for i in range (10):\n",
    "    if i == 7:\n",
    "        continue\n",
    "    print(i)  \n",
    "# output will be from 0 to 9 except 7    "
   ]
  },
  {
   "cell_type": "markdown",
   "id": "ad719933",
   "metadata": {},
   "source": [
    "### 11. In a for loop, what is the difference between range(10), range(0, 10), and range(0, 10, 1)?"
   ]
  },
  {
   "cell_type": "markdown",
   "id": "bb90ec17",
   "metadata": {},
   "source": [
    "for i in range (a,b,c):\n",
    "    print(i)\n",
    "\n",
    "for this expression\n",
    "a = starting point , by default it is zero (0)\n",
    "b = exclusive number or boundary number \n",
    "c = step number , by deafault it is 1\n",
    "\n",
    "range(start, stop[, step])\n",
    "\n",
    "\n",
    "range(10), range(0, 10), and range(0, 10, 1) all generate the same sequence of numbers from 0 to 9. The starting value of 0 and the step value of 1 are the default behaviors, so they can be omitted without affecting the output.\n",
    "\n",
    "conclusion - range(0,10,1) is standard for of range function. "
   ]
  },
  {
   "cell_type": "markdown",
   "id": "74720068",
   "metadata": {},
   "source": [
    "### 12. Write a short program that prints the numbers 1 to 10 using a for loop. Then write an equivalent program that prints the numbers 1 to 10 using a while loop."
   ]
  },
  {
   "cell_type": "code",
   "execution_count": 10,
   "id": "e01886cd",
   "metadata": {},
   "outputs": [
    {
     "name": "stdout",
     "output_type": "stream",
     "text": [
      "1\n",
      "2\n",
      "3\n",
      "4\n",
      "5\n",
      "6\n",
      "7\n",
      "8\n",
      "9\n",
      "10\n"
     ]
    }
   ],
   "source": [
    "# using the for loop\n",
    "\n",
    "for i in range (1,11):\n",
    "    print(i)"
   ]
  },
  {
   "cell_type": "code",
   "execution_count": 9,
   "id": "cbbd2afa",
   "metadata": {},
   "outputs": [
    {
     "name": "stdout",
     "output_type": "stream",
     "text": [
      "1\n",
      "2\n",
      "3\n",
      "4\n",
      "5\n",
      "6\n",
      "7\n",
      "8\n",
      "9\n",
      "10\n"
     ]
    }
   ],
   "source": [
    "# Using the while loop\n",
    "number = 1\n",
    "\n",
    "while number <= 10:\n",
    "    print(number)\n",
    "    number +=1"
   ]
  },
  {
   "cell_type": "markdown",
   "id": "c3cb489f",
   "metadata": {},
   "source": [
    "### 13. If you had a function named bacon() inside a module named spam, how would you call it after importing spam?"
   ]
  },
  {
   "cell_type": "markdown",
   "id": "29d873c6",
   "metadata": {},
   "source": [
    "Solution \n",
    "\n",
    "import spam \n",
    "\n",
    "spam.bacon()"
   ]
  },
  {
   "cell_type": "markdown",
   "id": "c4288031",
   "metadata": {},
   "source": [
    "## Done !!!"
   ]
  },
  {
   "cell_type": "code",
   "execution_count": null,
   "id": "3563beca",
   "metadata": {},
   "outputs": [],
   "source": []
  }
 ],
 "metadata": {
  "kernelspec": {
   "display_name": "Python 3 (ipykernel)",
   "language": "python",
   "name": "python3"
  },
  "language_info": {
   "codemirror_mode": {
    "name": "ipython",
    "version": 3
   },
   "file_extension": ".py",
   "mimetype": "text/x-python",
   "name": "python",
   "nbconvert_exporter": "python",
   "pygments_lexer": "ipython3",
   "version": "3.11.2"
  }
 },
 "nbformat": 4,
 "nbformat_minor": 5
}
